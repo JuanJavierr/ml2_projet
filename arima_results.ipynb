{
 "cells": [
  {
   "cell_type": "code",
   "execution_count": 2,
   "metadata": {},
   "outputs": [
    {
     "name": "stderr",
     "output_type": "stream",
     "text": [
      "/var/folders/xn/3599xwv92dv0b2nzybpwbzlr0000gn/T/ipykernel_48477/1815796167.py:24: FutureWarning: You are using `torch.load` with `weights_only=False` (the current default value), which uses the default pickle module implicitly. It is possible to construct malicious pickle data which will execute arbitrary code during unpickling (See https://github.com/pytorch/pytorch/blob/main/SECURITY.md#untrusted-models for more details). In a future release, the default value for `weights_only` will be flipped to `True`. This limits the functions that could be executed during unpickling. Arbitrary objects will no longer be allowed to be loaded via this mode unless they are explicitly allowlisted by the user via `torch.serialization.add_safe_globals`. We recommend you start setting `weights_only=True` for any use case where you don't have full control of the loaded file. Please open an issue on GitHub for any issues related to this experimental feature.\n",
      "  params = torch.load('tcn.pth')\n"
     ]
    }
   ],
   "source": [
    "import torch\n",
    "import pandas as pd\n",
    "from pytorch_tcn import TCN\n",
    "import plotly.express as px\n",
    "\n",
    "model = TCN(\n",
    "    num_inputs = 2,\n",
    "    num_channels=[8, 16],\n",
    "    kernel_size = 3,\n",
    "    # dilation_reset: Optional[ int ] = None,\n",
    "    dropout = 0.1, # 0.2, 0.3\n",
    "    causal = True,\n",
    "    use_norm = 'weight_norm', # 'batch_norm', 'layer_norm', 'weight_norm'\n",
    "    activation = 'relu',\n",
    "    kernel_initializer = 'normal', # 'xavier_normal', 'normal', 'uniform', 'kaiming_normal', 'kaiming_uniform'\n",
    "    use_skip_connections = True,\n",
    "    # input_shape: str = 'NCL',\n",
    "    # embedding_shapes: Optional[ ArrayLike ] = None,\n",
    "    # embedding_mode: str = 'add',\n",
    "    # use_gate: bool = False,\n",
    "    output_projection = 1,\n",
    "    output_activation = 'gelu',\n",
    ")\n",
    "params = torch.load('tcn.pth')\n",
    "model.load_state_dict(params)\n",
    "\n",
    "df = pd.read_csv('dataset_standardized.csv')\n",
    "df= df.set_index(pd.to_datetime(df['date'], format='%Y-%m-%d')).sort_index()\n",
    "\n",
    "train_df = df[\"2016\":\"2022\"]\n",
    "validation_df = df[\"2022\":\"2022\"]\n",
    "test_df = df[\"2023\":]"
   ]
  },
  {
   "cell_type": "code",
   "execution_count": 41,
   "metadata": {},
   "outputs": [],
   "source": [
    "def get_sequence(df: pd.DataFrame, sector_mrc: str):\n",
    "    \"\"\"Get a sequence of total_kwh and tavg for a given sector_mrc\"\"\"\n",
    "\n",
    "    # print(mrc)\n",
    "    sequence = df[df.sector_mrc == sector_mrc]\n",
    "    sequence = sequence[[\"total_kwh\", \"tavg\"]]\n",
    "\n",
    "    original_sequence = sequence.copy()\n",
    "    sequence[\"total_kwh\"] = sequence[\"total_kwh\"].diff()\n",
    "\n",
    "    # kwh_scaler = StandardScaler()\n",
    "    # temp_scaler = StandardScaler()\n",
    "    # sequence[['total_kwh']] = kwh_scaler.fit_transform(sequence[['total_kwh']])\n",
    "    # sequence[['tavg']] = temp_scaler.fit_transform(sequence[['tavg']])\n",
    "\n",
    "    # Label is the next total_kwh\n",
    "    sequence[\"label\"] = sequence.total_kwh.shift(-1)\n",
    "\n",
    "    # Drop the last row\n",
    "    sequence = sequence.dropna()\n",
    "\n",
    "    sequence = torch.tensor(sequence.values).float()\n",
    "\n",
    "    # print(sequence.shape)\n",
    "\n",
    "    return sequence, original_sequence\n",
    "\n",
    "def get_n_sequences(sector_mrc: list[str], train=True):\n",
    "    \"\"\"Get a tensor of sequences for a list of sector_mrcs\"\"\"\n",
    "    if train:\n",
    "        df = train_df\n",
    "    else:\n",
    "        df = test_df\n",
    "\n",
    "    sequences = []\n",
    "    kwh_scalers = []\n",
    "    temp_scalers = []\n",
    "    for sector_mrc in sector_mrc:\n",
    "        sequence, kwh_scaler, temp_scaler = get_sequence(df, sector_mrc)\n",
    "        sequences.append(sequence)\n",
    "        kwh_scalers.append(kwh_scaler)\n",
    "        temp_scalers.append(temp_scaler)\n",
    "\n",
    "    stacked = torch.stack(sequences)\n",
    "    return stacked, kwh_scalers, temp_scalers\n"
   ]
  },
  {
   "cell_type": "code",
   "execution_count": 11,
   "metadata": {},
   "outputs": [
    {
     "data": {
      "text/plain": [
       "torch.Size([1, 94])"
      ]
     },
     "execution_count": 11,
     "metadata": {},
     "output_type": "execute_result"
    }
   ],
   "source": [
    "model.eval()\n",
    "with torch.no_grad():\n",
    "    pred = model(X)\n",
    "\n",
    "pred = pred.squeeze(0)\n",
    "pred.shape"
   ]
  },
  {
   "cell_type": "code",
   "execution_count": 7,
   "metadata": {},
   "outputs": [
    {
     "data": {
      "text/plain": [
       "torch.Size([1, 94])"
      ]
     },
     "execution_count": 7,
     "metadata": {},
     "output_type": "execute_result"
    }
   ],
   "source": [
    "y.shape"
   ]
  },
  {
   "cell_type": "code",
   "execution_count": 3,
   "metadata": {},
   "outputs": [],
   "source": [
    "tcn_preds = pd.read_csv(\"tcn_preds.csv\")"
   ]
  },
  {
   "cell_type": "code",
   "execution_count": 4,
   "metadata": {},
   "outputs": [
    {
     "data": {
      "text/html": [
       "<div>\n",
       "<style scoped>\n",
       "    .dataframe tbody tr th:only-of-type {\n",
       "        vertical-align: middle;\n",
       "    }\n",
       "\n",
       "    .dataframe tbody tr th {\n",
       "        vertical-align: top;\n",
       "    }\n",
       "\n",
       "    .dataframe thead th {\n",
       "        text-align: right;\n",
       "    }\n",
       "</style>\n",
       "<table border=\"1\" class=\"dataframe\">\n",
       "  <thead>\n",
       "    <tr style=\"text-align: right;\">\n",
       "      <th></th>\n",
       "      <th>sector_mrc</th>\n",
       "      <th>date</th>\n",
       "      <th>label</th>\n",
       "      <th>output</th>\n",
       "    </tr>\n",
       "  </thead>\n",
       "  <tbody>\n",
       "    <tr>\n",
       "      <th>0</th>\n",
       "      <td>AGRICOLEDrummond</td>\n",
       "      <td>2023-01-01</td>\n",
       "      <td>1.865408e+07</td>\n",
       "      <td>1.857475e+07</td>\n",
       "    </tr>\n",
       "    <tr>\n",
       "      <th>1</th>\n",
       "      <td>AGRICOLEDrummond</td>\n",
       "      <td>2023-02-01</td>\n",
       "      <td>1.916460e+07</td>\n",
       "      <td>1.856869e+07</td>\n",
       "    </tr>\n",
       "    <tr>\n",
       "      <th>2</th>\n",
       "      <td>AGRICOLEDrummond</td>\n",
       "      <td>2023-03-01</td>\n",
       "      <td>1.798876e+07</td>\n",
       "      <td>1.840932e+07</td>\n",
       "    </tr>\n",
       "    <tr>\n",
       "      <th>3</th>\n",
       "      <td>AGRICOLEDrummond</td>\n",
       "      <td>2023-04-01</td>\n",
       "      <td>1.890425e+07</td>\n",
       "      <td>1.796444e+07</td>\n",
       "    </tr>\n",
       "    <tr>\n",
       "      <th>4</th>\n",
       "      <td>AGRICOLEDrummond</td>\n",
       "      <td>2023-05-01</td>\n",
       "      <td>1.909336e+07</td>\n",
       "      <td>1.898591e+07</td>\n",
       "    </tr>\n",
       "    <tr>\n",
       "      <th>...</th>\n",
       "      <td>...</td>\n",
       "      <td>...</td>\n",
       "      <td>...</td>\n",
       "      <td>...</td>\n",
       "    </tr>\n",
       "    <tr>\n",
       "      <th>105</th>\n",
       "      <td>RÉSIDENTIELLes Etchemins</td>\n",
       "      <td>2023-07-01</td>\n",
       "      <td>1.891414e+07</td>\n",
       "      <td>1.923308e+07</td>\n",
       "    </tr>\n",
       "    <tr>\n",
       "      <th>106</th>\n",
       "      <td>RÉSIDENTIELLes Etchemins</td>\n",
       "      <td>2023-08-01</td>\n",
       "      <td>1.900625e+07</td>\n",
       "      <td>1.988887e+07</td>\n",
       "    </tr>\n",
       "    <tr>\n",
       "      <th>107</th>\n",
       "      <td>RÉSIDENTIELLes Etchemins</td>\n",
       "      <td>2023-09-01</td>\n",
       "      <td>2.077716e+07</td>\n",
       "      <td>1.941680e+07</td>\n",
       "    </tr>\n",
       "    <tr>\n",
       "      <th>108</th>\n",
       "      <td>RÉSIDENTIELLes Etchemins</td>\n",
       "      <td>2023-10-01</td>\n",
       "      <td>2.442939e+07</td>\n",
       "      <td>2.562039e+07</td>\n",
       "    </tr>\n",
       "    <tr>\n",
       "      <th>109</th>\n",
       "      <td>RÉSIDENTIELLes Etchemins</td>\n",
       "      <td>2023-11-01</td>\n",
       "      <td>2.171135e+07</td>\n",
       "      <td>2.262696e+07</td>\n",
       "    </tr>\n",
       "  </tbody>\n",
       "</table>\n",
       "<p>110 rows × 4 columns</p>\n",
       "</div>"
      ],
      "text/plain": [
       "                   sector_mrc        date         label        output\n",
       "0            AGRICOLEDrummond  2023-01-01  1.865408e+07  1.857475e+07\n",
       "1            AGRICOLEDrummond  2023-02-01  1.916460e+07  1.856869e+07\n",
       "2            AGRICOLEDrummond  2023-03-01  1.798876e+07  1.840932e+07\n",
       "3            AGRICOLEDrummond  2023-04-01  1.890425e+07  1.796444e+07\n",
       "4            AGRICOLEDrummond  2023-05-01  1.909336e+07  1.898591e+07\n",
       "..                        ...         ...           ...           ...\n",
       "105  RÉSIDENTIELLes Etchemins  2023-07-01  1.891414e+07  1.923308e+07\n",
       "106  RÉSIDENTIELLes Etchemins  2023-08-01  1.900625e+07  1.988887e+07\n",
       "107  RÉSIDENTIELLes Etchemins  2023-09-01  2.077716e+07  1.941680e+07\n",
       "108  RÉSIDENTIELLes Etchemins  2023-10-01  2.442939e+07  2.562039e+07\n",
       "109  RÉSIDENTIELLes Etchemins  2023-11-01  2.171135e+07  2.262696e+07\n",
       "\n",
       "[110 rows x 4 columns]"
      ]
     },
     "execution_count": 4,
     "metadata": {},
     "output_type": "execute_result"
    }
   ],
   "source": [
    "tcn_preds"
   ]
  },
  {
   "cell_type": "code",
   "execution_count": null,
   "metadata": {},
   "outputs": [
    {
     "data": {
      "application/vnd.plotly.v1+json": {
       "config": {
        "plotlyServerURL": "https://plot.ly"
       },
       "data": [
        {
         "hovertemplate": "date=%{x}<br>total_kwh=%{y}<extra></extra>",
         "legendgroup": "",
         "line": {
          "color": "#636efa",
          "dash": "solid"
         },
         "marker": {
          "symbol": "circle"
         },
         "mode": "lines",
         "name": "",
         "orientation": "v",
         "showlegend": false,
         "type": "scatter",
         "x": [
          "2023-01-01",
          "2023-02-01",
          "2023-03-01",
          "2023-04-01",
          "2023-05-01",
          "2023-06-01",
          "2023-07-01",
          "2023-08-01",
          "2023-09-01",
          "2023-10-01",
          "2023-11-01",
          "2023-12-01"
         ],
         "xaxis": "x",
         "y": [
          6846496,
          6473865,
          6611757,
          5573804,
          5451344,
          5517997,
          6449576,
          6136128,
          5822133,
          6246672,
          7069067,
          6910862
         ],
         "yaxis": "y"
        },
        {
         "mode": "lines",
         "name": "SARIMA Prediction",
         "type": "scatter",
         "x": [
          "2023-01-01",
          "2023-02-01",
          "2023-03-01",
          "2023-04-01",
          "2023-05-01",
          "2023-06-01",
          "2023-07-01",
          "2023-08-01",
          "2023-09-01",
          "2023-10-01",
          "2023-11-01",
          "2023-12-01"
         ],
         "y": [
          7267008.811802878,
          6534239.383421415,
          6471909.62314748,
          5626255.0646766545,
          5478065.171184788,
          5453901.281643194,
          6012117.477291195,
          6172684.838402205,
          5230176.353432541,
          6006715.577996215,
          6599731.670275095,
          6519137.509847386
         ]
        },
        {
         "mode": "lines",
         "name": "TCN Prediction",
         "type": "scatter",
         "x": [
          "2023-02-01T00:00:00",
          "2023-03-10T00:00:00",
          "2023-04-16T00:00:00",
          "2023-05-23T00:00:00",
          "2023-06-29T00:00:00",
          "2023-08-05T00:00:00",
          "2023-09-11T00:00:00",
          "2023-10-18T00:00:00",
          "2023-11-24T00:00:00",
          "2023-12-31T00:00:00"
         ],
         "y": [
          18574753.25865254,
          18568686.7020392,
          18409323.927487373,
          17964444.464280028,
          18985912.33474861,
          18607963.755785376,
          18891606.176482372,
          19568942.488791183,
          19342342.515874967,
          20585886.651853275,
          19734568.802878983
         ]
        }
       ],
       "layout": {
        "legend": {
         "tracegroupgap": 0
        },
        "margin": {
         "t": 60
        },
        "template": {
         "data": {
          "bar": [
           {
            "error_x": {
             "color": "#2a3f5f"
            },
            "error_y": {
             "color": "#2a3f5f"
            },
            "marker": {
             "line": {
              "color": "#E5ECF6",
              "width": 0.5
             },
             "pattern": {
              "fillmode": "overlay",
              "size": 10,
              "solidity": 0.2
             }
            },
            "type": "bar"
           }
          ],
          "barpolar": [
           {
            "marker": {
             "line": {
              "color": "#E5ECF6",
              "width": 0.5
             },
             "pattern": {
              "fillmode": "overlay",
              "size": 10,
              "solidity": 0.2
             }
            },
            "type": "barpolar"
           }
          ],
          "carpet": [
           {
            "aaxis": {
             "endlinecolor": "#2a3f5f",
             "gridcolor": "white",
             "linecolor": "white",
             "minorgridcolor": "white",
             "startlinecolor": "#2a3f5f"
            },
            "baxis": {
             "endlinecolor": "#2a3f5f",
             "gridcolor": "white",
             "linecolor": "white",
             "minorgridcolor": "white",
             "startlinecolor": "#2a3f5f"
            },
            "type": "carpet"
           }
          ],
          "choropleth": [
           {
            "colorbar": {
             "outlinewidth": 0,
             "ticks": ""
            },
            "type": "choropleth"
           }
          ],
          "contour": [
           {
            "colorbar": {
             "outlinewidth": 0,
             "ticks": ""
            },
            "colorscale": [
             [
              0,
              "#0d0887"
             ],
             [
              0.1111111111111111,
              "#46039f"
             ],
             [
              0.2222222222222222,
              "#7201a8"
             ],
             [
              0.3333333333333333,
              "#9c179e"
             ],
             [
              0.4444444444444444,
              "#bd3786"
             ],
             [
              0.5555555555555556,
              "#d8576b"
             ],
             [
              0.6666666666666666,
              "#ed7953"
             ],
             [
              0.7777777777777778,
              "#fb9f3a"
             ],
             [
              0.8888888888888888,
              "#fdca26"
             ],
             [
              1,
              "#f0f921"
             ]
            ],
            "type": "contour"
           }
          ],
          "contourcarpet": [
           {
            "colorbar": {
             "outlinewidth": 0,
             "ticks": ""
            },
            "type": "contourcarpet"
           }
          ],
          "heatmap": [
           {
            "colorbar": {
             "outlinewidth": 0,
             "ticks": ""
            },
            "colorscale": [
             [
              0,
              "#0d0887"
             ],
             [
              0.1111111111111111,
              "#46039f"
             ],
             [
              0.2222222222222222,
              "#7201a8"
             ],
             [
              0.3333333333333333,
              "#9c179e"
             ],
             [
              0.4444444444444444,
              "#bd3786"
             ],
             [
              0.5555555555555556,
              "#d8576b"
             ],
             [
              0.6666666666666666,
              "#ed7953"
             ],
             [
              0.7777777777777778,
              "#fb9f3a"
             ],
             [
              0.8888888888888888,
              "#fdca26"
             ],
             [
              1,
              "#f0f921"
             ]
            ],
            "type": "heatmap"
           }
          ],
          "heatmapgl": [
           {
            "colorbar": {
             "outlinewidth": 0,
             "ticks": ""
            },
            "colorscale": [
             [
              0,
              "#0d0887"
             ],
             [
              0.1111111111111111,
              "#46039f"
             ],
             [
              0.2222222222222222,
              "#7201a8"
             ],
             [
              0.3333333333333333,
              "#9c179e"
             ],
             [
              0.4444444444444444,
              "#bd3786"
             ],
             [
              0.5555555555555556,
              "#d8576b"
             ],
             [
              0.6666666666666666,
              "#ed7953"
             ],
             [
              0.7777777777777778,
              "#fb9f3a"
             ],
             [
              0.8888888888888888,
              "#fdca26"
             ],
             [
              1,
              "#f0f921"
             ]
            ],
            "type": "heatmapgl"
           }
          ],
          "histogram": [
           {
            "marker": {
             "pattern": {
              "fillmode": "overlay",
              "size": 10,
              "solidity": 0.2
             }
            },
            "type": "histogram"
           }
          ],
          "histogram2d": [
           {
            "colorbar": {
             "outlinewidth": 0,
             "ticks": ""
            },
            "colorscale": [
             [
              0,
              "#0d0887"
             ],
             [
              0.1111111111111111,
              "#46039f"
             ],
             [
              0.2222222222222222,
              "#7201a8"
             ],
             [
              0.3333333333333333,
              "#9c179e"
             ],
             [
              0.4444444444444444,
              "#bd3786"
             ],
             [
              0.5555555555555556,
              "#d8576b"
             ],
             [
              0.6666666666666666,
              "#ed7953"
             ],
             [
              0.7777777777777778,
              "#fb9f3a"
             ],
             [
              0.8888888888888888,
              "#fdca26"
             ],
             [
              1,
              "#f0f921"
             ]
            ],
            "type": "histogram2d"
           }
          ],
          "histogram2dcontour": [
           {
            "colorbar": {
             "outlinewidth": 0,
             "ticks": ""
            },
            "colorscale": [
             [
              0,
              "#0d0887"
             ],
             [
              0.1111111111111111,
              "#46039f"
             ],
             [
              0.2222222222222222,
              "#7201a8"
             ],
             [
              0.3333333333333333,
              "#9c179e"
             ],
             [
              0.4444444444444444,
              "#bd3786"
             ],
             [
              0.5555555555555556,
              "#d8576b"
             ],
             [
              0.6666666666666666,
              "#ed7953"
             ],
             [
              0.7777777777777778,
              "#fb9f3a"
             ],
             [
              0.8888888888888888,
              "#fdca26"
             ],
             [
              1,
              "#f0f921"
             ]
            ],
            "type": "histogram2dcontour"
           }
          ],
          "mesh3d": [
           {
            "colorbar": {
             "outlinewidth": 0,
             "ticks": ""
            },
            "type": "mesh3d"
           }
          ],
          "parcoords": [
           {
            "line": {
             "colorbar": {
              "outlinewidth": 0,
              "ticks": ""
             }
            },
            "type": "parcoords"
           }
          ],
          "pie": [
           {
            "automargin": true,
            "type": "pie"
           }
          ],
          "scatter": [
           {
            "fillpattern": {
             "fillmode": "overlay",
             "size": 10,
             "solidity": 0.2
            },
            "type": "scatter"
           }
          ],
          "scatter3d": [
           {
            "line": {
             "colorbar": {
              "outlinewidth": 0,
              "ticks": ""
             }
            },
            "marker": {
             "colorbar": {
              "outlinewidth": 0,
              "ticks": ""
             }
            },
            "type": "scatter3d"
           }
          ],
          "scattercarpet": [
           {
            "marker": {
             "colorbar": {
              "outlinewidth": 0,
              "ticks": ""
             }
            },
            "type": "scattercarpet"
           }
          ],
          "scattergeo": [
           {
            "marker": {
             "colorbar": {
              "outlinewidth": 0,
              "ticks": ""
             }
            },
            "type": "scattergeo"
           }
          ],
          "scattergl": [
           {
            "marker": {
             "colorbar": {
              "outlinewidth": 0,
              "ticks": ""
             }
            },
            "type": "scattergl"
           }
          ],
          "scattermapbox": [
           {
            "marker": {
             "colorbar": {
              "outlinewidth": 0,
              "ticks": ""
             }
            },
            "type": "scattermapbox"
           }
          ],
          "scatterpolar": [
           {
            "marker": {
             "colorbar": {
              "outlinewidth": 0,
              "ticks": ""
             }
            },
            "type": "scatterpolar"
           }
          ],
          "scatterpolargl": [
           {
            "marker": {
             "colorbar": {
              "outlinewidth": 0,
              "ticks": ""
             }
            },
            "type": "scatterpolargl"
           }
          ],
          "scatterternary": [
           {
            "marker": {
             "colorbar": {
              "outlinewidth": 0,
              "ticks": ""
             }
            },
            "type": "scatterternary"
           }
          ],
          "surface": [
           {
            "colorbar": {
             "outlinewidth": 0,
             "ticks": ""
            },
            "colorscale": [
             [
              0,
              "#0d0887"
             ],
             [
              0.1111111111111111,
              "#46039f"
             ],
             [
              0.2222222222222222,
              "#7201a8"
             ],
             [
              0.3333333333333333,
              "#9c179e"
             ],
             [
              0.4444444444444444,
              "#bd3786"
             ],
             [
              0.5555555555555556,
              "#d8576b"
             ],
             [
              0.6666666666666666,
              "#ed7953"
             ],
             [
              0.7777777777777778,
              "#fb9f3a"
             ],
             [
              0.8888888888888888,
              "#fdca26"
             ],
             [
              1,
              "#f0f921"
             ]
            ],
            "type": "surface"
           }
          ],
          "table": [
           {
            "cells": {
             "fill": {
              "color": "#EBF0F8"
             },
             "line": {
              "color": "white"
             }
            },
            "header": {
             "fill": {
              "color": "#C8D4E3"
             },
             "line": {
              "color": "white"
             }
            },
            "type": "table"
           }
          ]
         },
         "layout": {
          "annotationdefaults": {
           "arrowcolor": "#2a3f5f",
           "arrowhead": 0,
           "arrowwidth": 1
          },
          "autotypenumbers": "strict",
          "coloraxis": {
           "colorbar": {
            "outlinewidth": 0,
            "ticks": ""
           }
          },
          "colorscale": {
           "diverging": [
            [
             0,
             "#8e0152"
            ],
            [
             0.1,
             "#c51b7d"
            ],
            [
             0.2,
             "#de77ae"
            ],
            [
             0.3,
             "#f1b6da"
            ],
            [
             0.4,
             "#fde0ef"
            ],
            [
             0.5,
             "#f7f7f7"
            ],
            [
             0.6,
             "#e6f5d0"
            ],
            [
             0.7,
             "#b8e186"
            ],
            [
             0.8,
             "#7fbc41"
            ],
            [
             0.9,
             "#4d9221"
            ],
            [
             1,
             "#276419"
            ]
           ],
           "sequential": [
            [
             0,
             "#0d0887"
            ],
            [
             0.1111111111111111,
             "#46039f"
            ],
            [
             0.2222222222222222,
             "#7201a8"
            ],
            [
             0.3333333333333333,
             "#9c179e"
            ],
            [
             0.4444444444444444,
             "#bd3786"
            ],
            [
             0.5555555555555556,
             "#d8576b"
            ],
            [
             0.6666666666666666,
             "#ed7953"
            ],
            [
             0.7777777777777778,
             "#fb9f3a"
            ],
            [
             0.8888888888888888,
             "#fdca26"
            ],
            [
             1,
             "#f0f921"
            ]
           ],
           "sequentialminus": [
            [
             0,
             "#0d0887"
            ],
            [
             0.1111111111111111,
             "#46039f"
            ],
            [
             0.2222222222222222,
             "#7201a8"
            ],
            [
             0.3333333333333333,
             "#9c179e"
            ],
            [
             0.4444444444444444,
             "#bd3786"
            ],
            [
             0.5555555555555556,
             "#d8576b"
            ],
            [
             0.6666666666666666,
             "#ed7953"
            ],
            [
             0.7777777777777778,
             "#fb9f3a"
            ],
            [
             0.8888888888888888,
             "#fdca26"
            ],
            [
             1,
             "#f0f921"
            ]
           ]
          },
          "colorway": [
           "#636efa",
           "#EF553B",
           "#00cc96",
           "#ab63fa",
           "#FFA15A",
           "#19d3f3",
           "#FF6692",
           "#B6E880",
           "#FF97FF",
           "#FECB52"
          ],
          "font": {
           "color": "#2a3f5f"
          },
          "geo": {
           "bgcolor": "white",
           "lakecolor": "white",
           "landcolor": "#E5ECF6",
           "showlakes": true,
           "showland": true,
           "subunitcolor": "white"
          },
          "hoverlabel": {
           "align": "left"
          },
          "hovermode": "closest",
          "mapbox": {
           "style": "light"
          },
          "paper_bgcolor": "white",
          "plot_bgcolor": "#E5ECF6",
          "polar": {
           "angularaxis": {
            "gridcolor": "white",
            "linecolor": "white",
            "ticks": ""
           },
           "bgcolor": "#E5ECF6",
           "radialaxis": {
            "gridcolor": "white",
            "linecolor": "white",
            "ticks": ""
           }
          },
          "scene": {
           "xaxis": {
            "backgroundcolor": "#E5ECF6",
            "gridcolor": "white",
            "gridwidth": 2,
            "linecolor": "white",
            "showbackground": true,
            "ticks": "",
            "zerolinecolor": "white"
           },
           "yaxis": {
            "backgroundcolor": "#E5ECF6",
            "gridcolor": "white",
            "gridwidth": 2,
            "linecolor": "white",
            "showbackground": true,
            "ticks": "",
            "zerolinecolor": "white"
           },
           "zaxis": {
            "backgroundcolor": "#E5ECF6",
            "gridcolor": "white",
            "gridwidth": 2,
            "linecolor": "white",
            "showbackground": true,
            "ticks": "",
            "zerolinecolor": "white"
           }
          },
          "shapedefaults": {
           "line": {
            "color": "#2a3f5f"
           }
          },
          "ternary": {
           "aaxis": {
            "gridcolor": "white",
            "linecolor": "white",
            "ticks": ""
           },
           "baxis": {
            "gridcolor": "white",
            "linecolor": "white",
            "ticks": ""
           },
           "bgcolor": "#E5ECF6",
           "caxis": {
            "gridcolor": "white",
            "linecolor": "white",
            "ticks": ""
           }
          },
          "title": {
           "x": 0.05
          },
          "xaxis": {
           "automargin": true,
           "gridcolor": "white",
           "linecolor": "white",
           "ticks": "",
           "title": {
            "standoff": 15
           },
           "zerolinecolor": "white",
           "zerolinewidth": 2
          },
          "yaxis": {
           "automargin": true,
           "gridcolor": "white",
           "linecolor": "white",
           "ticks": "",
           "title": {
            "standoff": 15
           },
           "zerolinecolor": "white",
           "zerolinewidth": 2
          }
         }
        },
        "xaxis": {
         "anchor": "y",
         "domain": [
          0,
          1
         ],
         "title": {
          "text": "date"
         }
        },
        "yaxis": {
         "anchor": "x",
         "domain": [
          0,
          1
         ],
         "title": {
          "text": "total_kwh"
         }
        }
       }
      }
     },
     "metadata": {},
     "output_type": "display_data"
    },
    {
     "data": {
      "application/vnd.plotly.v1+json": {
       "config": {
        "plotlyServerURL": "https://plot.ly"
       },
       "data": [
        {
         "hovertemplate": "date=%{x}<br>total_kwh=%{y}<extra></extra>",
         "legendgroup": "",
         "line": {
          "color": "#636efa",
          "dash": "solid"
         },
         "marker": {
          "symbol": "circle"
         },
         "mode": "lines",
         "name": "",
         "orientation": "v",
         "showlegend": false,
         "type": "scatter",
         "x": [
          "2023-01-01",
          "2023-02-01",
          "2023-03-01",
          "2023-04-01",
          "2023-05-01",
          "2023-06-01",
          "2023-07-01",
          "2023-08-01",
          "2023-09-01",
          "2023-10-01",
          "2023-11-01",
          "2023-12-01"
         ],
         "xaxis": "x",
         "y": [
          1143234,
          1160423,
          1453362,
          1671218,
          846100,
          713381,
          772260,
          734092,
          724739,
          747329,
          942264,
          1094746
         ],
         "yaxis": "y"
        },
        {
         "mode": "lines",
         "name": "SARIMA Prediction",
         "type": "scatter",
         "x": [
          "2023-01-01",
          "2023-02-01",
          "2023-03-01",
          "2023-04-01",
          "2023-05-01",
          "2023-06-01",
          "2023-07-01",
          "2023-08-01",
          "2023-09-01",
          "2023-10-01",
          "2023-11-01",
          "2023-12-01"
         ],
         "y": [
          1229273.648948389,
          1163259.159291167,
          1591006.028261551,
          1847050.3236203971,
          876526.8212497123,
          717609.4520620964,
          753192.869914984,
          760202.9845581077,
          694785.2432189031,
          744106.1403458426,
          887637.3926531104,
          1090301.0274265625
         ]
        },
        {
         "mode": "lines",
         "name": "TCN Prediction",
         "type": "scatter",
         "x": [
          "2023-02-01T00:00:00",
          "2023-03-10T00:00:00",
          "2023-04-16T00:00:00",
          "2023-05-23T00:00:00",
          "2023-06-29T00:00:00",
          "2023-08-05T00:00:00",
          "2023-09-11T00:00:00",
          "2023-10-18T00:00:00",
          "2023-11-24T00:00:00",
          "2023-12-31T00:00:00"
         ],
         "y": [
          18601990.411005296,
          18864449.102888104,
          18290653.463777386,
          19147339.136990458,
          19344573.739486095,
          19544927.25585541,
          19412233.12330768,
          19320828.506728902,
          19259484.19161308,
          21055655.918383233,
          19030245.01966495
         ]
        }
       ],
       "layout": {
        "legend": {
         "tracegroupgap": 0
        },
        "margin": {
         "t": 60
        },
        "template": {
         "data": {
          "bar": [
           {
            "error_x": {
             "color": "#2a3f5f"
            },
            "error_y": {
             "color": "#2a3f5f"
            },
            "marker": {
             "line": {
              "color": "#E5ECF6",
              "width": 0.5
             },
             "pattern": {
              "fillmode": "overlay",
              "size": 10,
              "solidity": 0.2
             }
            },
            "type": "bar"
           }
          ],
          "barpolar": [
           {
            "marker": {
             "line": {
              "color": "#E5ECF6",
              "width": 0.5
             },
             "pattern": {
              "fillmode": "overlay",
              "size": 10,
              "solidity": 0.2
             }
            },
            "type": "barpolar"
           }
          ],
          "carpet": [
           {
            "aaxis": {
             "endlinecolor": "#2a3f5f",
             "gridcolor": "white",
             "linecolor": "white",
             "minorgridcolor": "white",
             "startlinecolor": "#2a3f5f"
            },
            "baxis": {
             "endlinecolor": "#2a3f5f",
             "gridcolor": "white",
             "linecolor": "white",
             "minorgridcolor": "white",
             "startlinecolor": "#2a3f5f"
            },
            "type": "carpet"
           }
          ],
          "choropleth": [
           {
            "colorbar": {
             "outlinewidth": 0,
             "ticks": ""
            },
            "type": "choropleth"
           }
          ],
          "contour": [
           {
            "colorbar": {
             "outlinewidth": 0,
             "ticks": ""
            },
            "colorscale": [
             [
              0,
              "#0d0887"
             ],
             [
              0.1111111111111111,
              "#46039f"
             ],
             [
              0.2222222222222222,
              "#7201a8"
             ],
             [
              0.3333333333333333,
              "#9c179e"
             ],
             [
              0.4444444444444444,
              "#bd3786"
             ],
             [
              0.5555555555555556,
              "#d8576b"
             ],
             [
              0.6666666666666666,
              "#ed7953"
             ],
             [
              0.7777777777777778,
              "#fb9f3a"
             ],
             [
              0.8888888888888888,
              "#fdca26"
             ],
             [
              1,
              "#f0f921"
             ]
            ],
            "type": "contour"
           }
          ],
          "contourcarpet": [
           {
            "colorbar": {
             "outlinewidth": 0,
             "ticks": ""
            },
            "type": "contourcarpet"
           }
          ],
          "heatmap": [
           {
            "colorbar": {
             "outlinewidth": 0,
             "ticks": ""
            },
            "colorscale": [
             [
              0,
              "#0d0887"
             ],
             [
              0.1111111111111111,
              "#46039f"
             ],
             [
              0.2222222222222222,
              "#7201a8"
             ],
             [
              0.3333333333333333,
              "#9c179e"
             ],
             [
              0.4444444444444444,
              "#bd3786"
             ],
             [
              0.5555555555555556,
              "#d8576b"
             ],
             [
              0.6666666666666666,
              "#ed7953"
             ],
             [
              0.7777777777777778,
              "#fb9f3a"
             ],
             [
              0.8888888888888888,
              "#fdca26"
             ],
             [
              1,
              "#f0f921"
             ]
            ],
            "type": "heatmap"
           }
          ],
          "heatmapgl": [
           {
            "colorbar": {
             "outlinewidth": 0,
             "ticks": ""
            },
            "colorscale": [
             [
              0,
              "#0d0887"
             ],
             [
              0.1111111111111111,
              "#46039f"
             ],
             [
              0.2222222222222222,
              "#7201a8"
             ],
             [
              0.3333333333333333,
              "#9c179e"
             ],
             [
              0.4444444444444444,
              "#bd3786"
             ],
             [
              0.5555555555555556,
              "#d8576b"
             ],
             [
              0.6666666666666666,
              "#ed7953"
             ],
             [
              0.7777777777777778,
              "#fb9f3a"
             ],
             [
              0.8888888888888888,
              "#fdca26"
             ],
             [
              1,
              "#f0f921"
             ]
            ],
            "type": "heatmapgl"
           }
          ],
          "histogram": [
           {
            "marker": {
             "pattern": {
              "fillmode": "overlay",
              "size": 10,
              "solidity": 0.2
             }
            },
            "type": "histogram"
           }
          ],
          "histogram2d": [
           {
            "colorbar": {
             "outlinewidth": 0,
             "ticks": ""
            },
            "colorscale": [
             [
              0,
              "#0d0887"
             ],
             [
              0.1111111111111111,
              "#46039f"
             ],
             [
              0.2222222222222222,
              "#7201a8"
             ],
             [
              0.3333333333333333,
              "#9c179e"
             ],
             [
              0.4444444444444444,
              "#bd3786"
             ],
             [
              0.5555555555555556,
              "#d8576b"
             ],
             [
              0.6666666666666666,
              "#ed7953"
             ],
             [
              0.7777777777777778,
              "#fb9f3a"
             ],
             [
              0.8888888888888888,
              "#fdca26"
             ],
             [
              1,
              "#f0f921"
             ]
            ],
            "type": "histogram2d"
           }
          ],
          "histogram2dcontour": [
           {
            "colorbar": {
             "outlinewidth": 0,
             "ticks": ""
            },
            "colorscale": [
             [
              0,
              "#0d0887"
             ],
             [
              0.1111111111111111,
              "#46039f"
             ],
             [
              0.2222222222222222,
              "#7201a8"
             ],
             [
              0.3333333333333333,
              "#9c179e"
             ],
             [
              0.4444444444444444,
              "#bd3786"
             ],
             [
              0.5555555555555556,
              "#d8576b"
             ],
             [
              0.6666666666666666,
              "#ed7953"
             ],
             [
              0.7777777777777778,
              "#fb9f3a"
             ],
             [
              0.8888888888888888,
              "#fdca26"
             ],
             [
              1,
              "#f0f921"
             ]
            ],
            "type": "histogram2dcontour"
           }
          ],
          "mesh3d": [
           {
            "colorbar": {
             "outlinewidth": 0,
             "ticks": ""
            },
            "type": "mesh3d"
           }
          ],
          "parcoords": [
           {
            "line": {
             "colorbar": {
              "outlinewidth": 0,
              "ticks": ""
             }
            },
            "type": "parcoords"
           }
          ],
          "pie": [
           {
            "automargin": true,
            "type": "pie"
           }
          ],
          "scatter": [
           {
            "fillpattern": {
             "fillmode": "overlay",
             "size": 10,
             "solidity": 0.2
            },
            "type": "scatter"
           }
          ],
          "scatter3d": [
           {
            "line": {
             "colorbar": {
              "outlinewidth": 0,
              "ticks": ""
             }
            },
            "marker": {
             "colorbar": {
              "outlinewidth": 0,
              "ticks": ""
             }
            },
            "type": "scatter3d"
           }
          ],
          "scattercarpet": [
           {
            "marker": {
             "colorbar": {
              "outlinewidth": 0,
              "ticks": ""
             }
            },
            "type": "scattercarpet"
           }
          ],
          "scattergeo": [
           {
            "marker": {
             "colorbar": {
              "outlinewidth": 0,
              "ticks": ""
             }
            },
            "type": "scattergeo"
           }
          ],
          "scattergl": [
           {
            "marker": {
             "colorbar": {
              "outlinewidth": 0,
              "ticks": ""
             }
            },
            "type": "scattergl"
           }
          ],
          "scattermapbox": [
           {
            "marker": {
             "colorbar": {
              "outlinewidth": 0,
              "ticks": ""
             }
            },
            "type": "scattermapbox"
           }
          ],
          "scatterpolar": [
           {
            "marker": {
             "colorbar": {
              "outlinewidth": 0,
              "ticks": ""
             }
            },
            "type": "scatterpolar"
           }
          ],
          "scatterpolargl": [
           {
            "marker": {
             "colorbar": {
              "outlinewidth": 0,
              "ticks": ""
             }
            },
            "type": "scatterpolargl"
           }
          ],
          "scatterternary": [
           {
            "marker": {
             "colorbar": {
              "outlinewidth": 0,
              "ticks": ""
             }
            },
            "type": "scatterternary"
           }
          ],
          "surface": [
           {
            "colorbar": {
             "outlinewidth": 0,
             "ticks": ""
            },
            "colorscale": [
             [
              0,
              "#0d0887"
             ],
             [
              0.1111111111111111,
              "#46039f"
             ],
             [
              0.2222222222222222,
              "#7201a8"
             ],
             [
              0.3333333333333333,
              "#9c179e"
             ],
             [
              0.4444444444444444,
              "#bd3786"
             ],
             [
              0.5555555555555556,
              "#d8576b"
             ],
             [
              0.6666666666666666,
              "#ed7953"
             ],
             [
              0.7777777777777778,
              "#fb9f3a"
             ],
             [
              0.8888888888888888,
              "#fdca26"
             ],
             [
              1,
              "#f0f921"
             ]
            ],
            "type": "surface"
           }
          ],
          "table": [
           {
            "cells": {
             "fill": {
              "color": "#EBF0F8"
             },
             "line": {
              "color": "white"
             }
            },
            "header": {
             "fill": {
              "color": "#C8D4E3"
             },
             "line": {
              "color": "white"
             }
            },
            "type": "table"
           }
          ]
         },
         "layout": {
          "annotationdefaults": {
           "arrowcolor": "#2a3f5f",
           "arrowhead": 0,
           "arrowwidth": 1
          },
          "autotypenumbers": "strict",
          "coloraxis": {
           "colorbar": {
            "outlinewidth": 0,
            "ticks": ""
           }
          },
          "colorscale": {
           "diverging": [
            [
             0,
             "#8e0152"
            ],
            [
             0.1,
             "#c51b7d"
            ],
            [
             0.2,
             "#de77ae"
            ],
            [
             0.3,
             "#f1b6da"
            ],
            [
             0.4,
             "#fde0ef"
            ],
            [
             0.5,
             "#f7f7f7"
            ],
            [
             0.6,
             "#e6f5d0"
            ],
            [
             0.7,
             "#b8e186"
            ],
            [
             0.8,
             "#7fbc41"
            ],
            [
             0.9,
             "#4d9221"
            ],
            [
             1,
             "#276419"
            ]
           ],
           "sequential": [
            [
             0,
             "#0d0887"
            ],
            [
             0.1111111111111111,
             "#46039f"
            ],
            [
             0.2222222222222222,
             "#7201a8"
            ],
            [
             0.3333333333333333,
             "#9c179e"
            ],
            [
             0.4444444444444444,
             "#bd3786"
            ],
            [
             0.5555555555555556,
             "#d8576b"
            ],
            [
             0.6666666666666666,
             "#ed7953"
            ],
            [
             0.7777777777777778,
             "#fb9f3a"
            ],
            [
             0.8888888888888888,
             "#fdca26"
            ],
            [
             1,
             "#f0f921"
            ]
           ],
           "sequentialminus": [
            [
             0,
             "#0d0887"
            ],
            [
             0.1111111111111111,
             "#46039f"
            ],
            [
             0.2222222222222222,
             "#7201a8"
            ],
            [
             0.3333333333333333,
             "#9c179e"
            ],
            [
             0.4444444444444444,
             "#bd3786"
            ],
            [
             0.5555555555555556,
             "#d8576b"
            ],
            [
             0.6666666666666666,
             "#ed7953"
            ],
            [
             0.7777777777777778,
             "#fb9f3a"
            ],
            [
             0.8888888888888888,
             "#fdca26"
            ],
            [
             1,
             "#f0f921"
            ]
           ]
          },
          "colorway": [
           "#636efa",
           "#EF553B",
           "#00cc96",
           "#ab63fa",
           "#FFA15A",
           "#19d3f3",
           "#FF6692",
           "#B6E880",
           "#FF97FF",
           "#FECB52"
          ],
          "font": {
           "color": "#2a3f5f"
          },
          "geo": {
           "bgcolor": "white",
           "lakecolor": "white",
           "landcolor": "#E5ECF6",
           "showlakes": true,
           "showland": true,
           "subunitcolor": "white"
          },
          "hoverlabel": {
           "align": "left"
          },
          "hovermode": "closest",
          "mapbox": {
           "style": "light"
          },
          "paper_bgcolor": "white",
          "plot_bgcolor": "#E5ECF6",
          "polar": {
           "angularaxis": {
            "gridcolor": "white",
            "linecolor": "white",
            "ticks": ""
           },
           "bgcolor": "#E5ECF6",
           "radialaxis": {
            "gridcolor": "white",
            "linecolor": "white",
            "ticks": ""
           }
          },
          "scene": {
           "xaxis": {
            "backgroundcolor": "#E5ECF6",
            "gridcolor": "white",
            "gridwidth": 2,
            "linecolor": "white",
            "showbackground": true,
            "ticks": "",
            "zerolinecolor": "white"
           },
           "yaxis": {
            "backgroundcolor": "#E5ECF6",
            "gridcolor": "white",
            "gridwidth": 2,
            "linecolor": "white",
            "showbackground": true,
            "ticks": "",
            "zerolinecolor": "white"
           },
           "zaxis": {
            "backgroundcolor": "#E5ECF6",
            "gridcolor": "white",
            "gridwidth": 2,
            "linecolor": "white",
            "showbackground": true,
            "ticks": "",
            "zerolinecolor": "white"
           }
          },
          "shapedefaults": {
           "line": {
            "color": "#2a3f5f"
           }
          },
          "ternary": {
           "aaxis": {
            "gridcolor": "white",
            "linecolor": "white",
            "ticks": ""
           },
           "baxis": {
            "gridcolor": "white",
            "linecolor": "white",
            "ticks": ""
           },
           "bgcolor": "#E5ECF6",
           "caxis": {
            "gridcolor": "white",
            "linecolor": "white",
            "ticks": ""
           }
          },
          "title": {
           "x": 0.05
          },
          "xaxis": {
           "automargin": true,
           "gridcolor": "white",
           "linecolor": "white",
           "ticks": "",
           "title": {
            "standoff": 15
           },
           "zerolinecolor": "white",
           "zerolinewidth": 2
          },
          "yaxis": {
           "automargin": true,
           "gridcolor": "white",
           "linecolor": "white",
           "ticks": "",
           "title": {
            "standoff": 15
           },
           "zerolinecolor": "white",
           "zerolinewidth": 2
          }
         }
        },
        "xaxis": {
         "anchor": "y",
         "domain": [
          0,
          1
         ],
         "title": {
          "text": "date"
         }
        },
        "yaxis": {
         "anchor": "x",
         "domain": [
          0,
          1
         ],
         "title": {
          "text": "total_kwh"
         }
        }
       }
      }
     },
     "metadata": {},
     "output_type": "display_data"
    }
   ],
   "source": [
    "\n",
    "sectors = df[\"sector\"].unique()\n",
    "for mrc in [\"Drummond\", \"Les Etchemins\"]:\n",
    "    for sector in sectors:\n",
    "        # On importe d'abord les prévisions pré-calculées pour SARIMA\n",
    "        sarima_preds = pd.read_csv(f\"./arima_predictions/{mrc}_{sector}.csv\")\n",
    "        \n",
    "        fig = px.line(sarima_preds, x=\"date\", y=\"total_kwh\")\n",
    "\n",
    "        sector_mrc = sector + mrc\n",
    "        tcn_p = tcn_preds[[tcn_preds[\"sector_mrc\"] == sector_mrc]]\n",
    "        tcn_p = tcn_p.drop(columns=[\"sector_mrc\"])\n",
    "\n",
    "        fig.add_scatter(y=sarima_preds[\"forecast\"], x=sarima_preds[\"date\"], mode='lines', name=\"SARIMA Prediction\")\n",
    "        fig.add_scatter(y=tcn_p.ouput, x=pd.date_range(start=\"2023-02-01\", end=\"2023-12-31\", periods=10), mode='lines', name=\"TCN Prediction\")\n",
    "        # fig = px.line(y.squeeze())\n",
    "        # fig.add_scatter(y=pred.squeeze(), mode='lines', name=\"pred\")\n",
    "        fig.show()\n",
    "        break\n"
   ]
  },
  {
   "cell_type": "code",
   "execution_count": null,
   "metadata": {},
   "outputs": [],
   "source": [
    "import plotly.express as px\n",
    "\n",
    "# Plot forecast vs actual\n",
    "fig = px.line(fore.rename(\"Prédiction\"), title=f\"{mrc} - {sector}\")\n",
    "fig.add_trace(go.Scatter(x=y.index, y=y[\"total_kwh\"], mode=\"lines\", name=\"Valeurs réelles\"))\n",
    "fig.update_layout(legend_title_text=\"Légende\", title=f\"Consommation mensuelle pour la MRC de {mrc} - Secteur {sector}\", yaxis_title=\"Valeur (kWh)\", xaxis_title=\"Date\")\n",
    "fig.show()\n"
   ]
  },
  {
   "cell_type": "code",
   "execution_count": 9,
   "metadata": {},
   "outputs": [
    {
     "data": {
      "text/html": [
       "<div>\n",
       "<style scoped>\n",
       "    .dataframe tbody tr th:only-of-type {\n",
       "        vertical-align: middle;\n",
       "    }\n",
       "\n",
       "    .dataframe tbody tr th {\n",
       "        vertical-align: top;\n",
       "    }\n",
       "\n",
       "    .dataframe thead th {\n",
       "        text-align: right;\n",
       "    }\n",
       "</style>\n",
       "<table border=\"1\" class=\"dataframe\">\n",
       "  <thead>\n",
       "    <tr style=\"text-align: right;\">\n",
       "      <th></th>\n",
       "      <th>MRC</th>\n",
       "      <th>SECTOR</th>\n",
       "      <th>mean_temp__month_rmse</th>\n",
       "      <th>mean_temp__month_mape</th>\n",
       "    </tr>\n",
       "  </thead>\n",
       "  <tbody>\n",
       "    <tr>\n",
       "      <th>0</th>\n",
       "      <td>Abitibi</td>\n",
       "      <td>AGRICOLE</td>\n",
       "      <td>3.031020e+04</td>\n",
       "      <td>0.039937</td>\n",
       "    </tr>\n",
       "    <tr>\n",
       "      <th>1</th>\n",
       "      <td>Matawinie</td>\n",
       "      <td>INDUSTRIEL</td>\n",
       "      <td>8.219413e+05</td>\n",
       "      <td>0.170588</td>\n",
       "    </tr>\n",
       "    <tr>\n",
       "      <th>2</th>\n",
       "      <td>Matawinie</td>\n",
       "      <td>COMMERCIAL</td>\n",
       "      <td>6.664455e+05</td>\n",
       "      <td>0.041837</td>\n",
       "    </tr>\n",
       "    <tr>\n",
       "      <th>3</th>\n",
       "      <td>Matawinie</td>\n",
       "      <td>AGRICOLE</td>\n",
       "      <td>1.788036e+05</td>\n",
       "      <td>0.088196</td>\n",
       "    </tr>\n",
       "    <tr>\n",
       "      <th>4</th>\n",
       "      <td>Les Moulins</td>\n",
       "      <td>RÉSIDENTIEL</td>\n",
       "      <td>7.458700e+06</td>\n",
       "      <td>0.042321</td>\n",
       "    </tr>\n",
       "  </tbody>\n",
       "</table>\n",
       "</div>"
      ],
      "text/plain": [
       "           MRC       SECTOR  mean_temp__month_rmse  mean_temp__month_mape\n",
       "0      Abitibi     AGRICOLE           3.031020e+04               0.039937\n",
       "1    Matawinie   INDUSTRIEL           8.219413e+05               0.170588\n",
       "2    Matawinie   COMMERCIAL           6.664455e+05               0.041837\n",
       "3    Matawinie     AGRICOLE           1.788036e+05               0.088196\n",
       "4  Les Moulins  RÉSIDENTIEL           7.458700e+06               0.042321"
      ]
     },
     "execution_count": 9,
     "metadata": {},
     "output_type": "execute_result"
    }
   ],
   "source": [
    "import pandas as pd \n",
    "\n",
    "\n",
    "df = pd.read_csv(\"results.csv\")\n",
    "df.head()"
   ]
  },
  {
   "cell_type": "code",
   "execution_count": 10,
   "metadata": {},
   "outputs": [
    {
     "data": {
      "text/plain": [
       "SECTOR\n",
       "AGRICOLE          0.073025\n",
       "COMMERCIAL        0.059453\n",
       "INDUSTRIEL        0.154510\n",
       "INSTITUTIONNEL    0.058509\n",
       "RÉSIDENTIEL       0.054587\n",
       "Name: mean_temp__month_mape, dtype: float64"
      ]
     },
     "execution_count": 10,
     "metadata": {},
     "output_type": "execute_result"
    }
   ],
   "source": [
    "# Get mean MAPE for each sector\n",
    "df.groupby('SECTOR')['mean_temp__month_mape'].mean()"
   ]
  },
  {
   "cell_type": "code",
   "execution_count": 11,
   "metadata": {},
   "outputs": [
    {
     "data": {
      "text/plain": [
       "MRC\n",
       "Lac-Saint-Jean-Est                  0.443822\n",
       "La Haute-Gaspésie                   0.266998\n",
       "Mékinac                             0.263477\n",
       "La Rivière-du-Nord                  0.224387\n",
       "Les Sources                         0.181747\n",
       "                                      ...   \n",
       "Montcalm                            0.034846\n",
       "Portneuf                            0.034746\n",
       "Kamouraska                          0.033210\n",
       "Rimouski-Neigette                   0.032436\n",
       "Administration régionale Kativik         NaN\n",
       "Name: mean_temp__month_mape, Length: 88, dtype: float64"
      ]
     },
     "execution_count": 11,
     "metadata": {},
     "output_type": "execute_result"
    }
   ],
   "source": [
    "# Get mean MAPE for each MRC\n",
    "\n",
    "df.groupby('MRC')['mean_temp__month_mape'].mean().sort_values(ascending=False)"
   ]
  },
  {
   "cell_type": "code",
   "execution_count": 13,
   "metadata": {},
   "outputs": [
    {
     "data": {
      "application/vnd.plotly.v1+json": {
       "config": {
        "plotlyServerURL": "https://plot.ly"
       },
       "data": [
        {
         "alignmentgroup": "True",
         "hovertemplate": "SECTOR=%{x}<br>mean_temp__month_mape=%{y}<extra></extra>",
         "legendgroup": "",
         "marker": {
          "color": "#636efa"
         },
         "name": "",
         "notched": false,
         "offsetgroup": "",
         "orientation": "v",
         "showlegend": false,
         "type": "box",
         "x": [
          "AGRICOLE",
          "INDUSTRIEL",
          "COMMERCIAL",
          "AGRICOLE",
          "RÉSIDENTIEL",
          "INSTITUTIONNEL",
          "INDUSTRIEL",
          "COMMERCIAL",
          "AGRICOLE",
          "RÉSIDENTIEL",
          "INSTITUTIONNEL",
          "INDUSTRIEL",
          "COMMERCIAL",
          "AGRICOLE",
          "RÉSIDENTIEL",
          "INSTITUTIONNEL",
          "INDUSTRIEL",
          "COMMERCIAL",
          "AGRICOLE",
          "RÉSIDENTIEL",
          "INSTITUTIONNEL",
          "RÉSIDENTIEL",
          "AGRICOLE",
          "COMMERCIAL",
          "COMMERCIAL",
          "AGRICOLE",
          "RÉSIDENTIEL",
          "INSTITUTIONNEL",
          "INDUSTRIEL",
          "COMMERCIAL",
          "AGRICOLE",
          "RÉSIDENTIEL",
          "INSTITUTIONNEL",
          "INSTITUTIONNEL",
          "INDUSTRIEL",
          "AGRICOLE",
          "RÉSIDENTIEL",
          "INSTITUTIONNEL",
          "INDUSTRIEL",
          "COMMERCIAL",
          "AGRICOLE",
          "RÉSIDENTIEL",
          "INSTITUTIONNEL",
          "INDUSTRIEL",
          "COMMERCIAL",
          "INDUSTRIEL",
          "COMMERCIAL",
          "AGRICOLE",
          "AGRICOLE",
          "RÉSIDENTIEL",
          "INSTITUTIONNEL",
          "INDUSTRIEL",
          "COMMERCIAL",
          "AGRICOLE",
          "RÉSIDENTIEL",
          "INSTITUTIONNEL",
          "INDUSTRIEL",
          "COMMERCIAL",
          "COMMERCIAL",
          "RÉSIDENTIEL",
          "INSTITUTIONNEL",
          "INDUSTRIEL",
          "COMMERCIAL",
          "AGRICOLE",
          "RÉSIDENTIEL",
          "INSTITUTIONNEL",
          "INDUSTRIEL",
          "COMMERCIAL",
          "AGRICOLE",
          "INDUSTRIEL",
          "INDUSTRIEL",
          "RÉSIDENTIEL",
          "RÉSIDENTIEL",
          "INSTITUTIONNEL",
          "INDUSTRIEL",
          "COMMERCIAL",
          "AGRICOLE",
          "AGRICOLE",
          "COMMERCIAL",
          "INDUSTRIEL",
          "INSTITUTIONNEL",
          "INSTITUTIONNEL",
          "RÉSIDENTIEL",
          "INSTITUTIONNEL",
          "INDUSTRIEL",
          "COMMERCIAL",
          "AGRICOLE",
          "RÉSIDENTIEL",
          "INSTITUTIONNEL",
          "INDUSTRIEL",
          "COMMERCIAL",
          "AGRICOLE",
          "RÉSIDENTIEL",
          "INSTITUTIONNEL",
          "RÉSIDENTIEL",
          "AGRICOLE",
          "INSTITUTIONNEL",
          "INDUSTRIEL",
          "COMMERCIAL",
          "AGRICOLE",
          "RÉSIDENTIEL",
          "INSTITUTIONNEL",
          "INDUSTRIEL",
          "COMMERCIAL",
          "AGRICOLE",
          "RÉSIDENTIEL",
          "RÉSIDENTIEL",
          "INDUSTRIEL",
          "COMMERCIAL",
          "AGRICOLE",
          "RÉSIDENTIEL",
          "INSTITUTIONNEL",
          "INDUSTRIEL",
          "COMMERCIAL",
          "AGRICOLE",
          "RÉSIDENTIEL",
          "INSTITUTIONNEL",
          "INSTITUTIONNEL",
          "AGRICOLE",
          "INDUSTRIEL",
          "INDUSTRIEL",
          "COMMERCIAL",
          "AGRICOLE",
          "RÉSIDENTIEL",
          "INSTITUTIONNEL",
          "INDUSTRIEL",
          "COMMERCIAL",
          "AGRICOLE",
          "RÉSIDENTIEL",
          "COMMERCIAL",
          "INSTITUTIONNEL",
          "COMMERCIAL",
          "AGRICOLE",
          "AGRICOLE",
          "COMMERCIAL",
          "INDUSTRIEL",
          "INSTITUTIONNEL",
          "RÉSIDENTIEL",
          "RÉSIDENTIEL",
          "INSTITUTIONNEL",
          "INDUSTRIEL",
          "AGRICOLE",
          "INDUSTRIEL",
          "AGRICOLE",
          "AGRICOLE",
          "RÉSIDENTIEL",
          "INSTITUTIONNEL",
          "INDUSTRIEL",
          "COMMERCIAL",
          "AGRICOLE",
          "RÉSIDENTIEL",
          "INSTITUTIONNEL",
          "AGRICOLE",
          "COMMERCIAL",
          "COMMERCIAL",
          "INSTITUTIONNEL",
          "RÉSIDENTIEL",
          "INDUSTRIEL",
          "COMMERCIAL",
          "AGRICOLE",
          "RÉSIDENTIEL",
          "INSTITUTIONNEL",
          "INDUSTRIEL",
          "COMMERCIAL",
          "INDUSTRIEL",
          "COMMERCIAL",
          "INDUSTRIEL",
          "RÉSIDENTIEL",
          "RÉSIDENTIEL",
          "INSTITUTIONNEL",
          "INDUSTRIEL",
          "COMMERCIAL",
          "AGRICOLE",
          "RÉSIDENTIEL",
          "INSTITUTIONNEL",
          "INDUSTRIEL",
          "COMMERCIAL",
          "INSTITUTIONNEL",
          "AGRICOLE",
          "INSTITUTIONNEL",
          "INDUSTRIEL",
          "COMMERCIAL",
          "AGRICOLE",
          "RÉSIDENTIEL",
          "INSTITUTIONNEL",
          "INDUSTRIEL",
          "COMMERCIAL",
          "AGRICOLE",
          "RÉSIDENTIEL",
          "RÉSIDENTIEL",
          "INSTITUTIONNEL",
          "INDUSTRIEL",
          "RÉSIDENTIEL",
          "INSTITUTIONNEL",
          "INDUSTRIEL",
          "COMMERCIAL",
          "AGRICOLE",
          "RÉSIDENTIEL",
          "INSTITUTIONNEL",
          "INDUSTRIEL",
          "COMMERCIAL",
          "AGRICOLE",
          "AGRICOLE",
          "INSTITUTIONNEL",
          "INDUSTRIEL",
          "COMMERCIAL",
          "AGRICOLE",
          "RÉSIDENTIEL",
          "INSTITUTIONNEL",
          "INDUSTRIEL",
          "COMMERCIAL",
          "AGRICOLE",
          "RÉSIDENTIEL",
          "RÉSIDENTIEL",
          "COMMERCIAL",
          "INSTITUTIONNEL",
          "INSTITUTIONNEL",
          "AGRICOLE",
          "COMMERCIAL",
          "INDUSTRIEL",
          "INSTITUTIONNEL",
          "RÉSIDENTIEL",
          "INDUSTRIEL",
          "COMMERCIAL",
          "AGRICOLE",
          "INDUSTRIEL",
          "RÉSIDENTIEL",
          "INDUSTRIEL",
          "COMMERCIAL",
          "AGRICOLE",
          "RÉSIDENTIEL",
          "INSTITUTIONNEL",
          "INDUSTRIEL",
          "COMMERCIAL",
          "AGRICOLE",
          "RÉSIDENTIEL",
          "INSTITUTIONNEL",
          "RÉSIDENTIEL",
          "INSTITUTIONNEL",
          "COMMERCIAL",
          "INSTITUTIONNEL",
          "RÉSIDENTIEL",
          "RÉSIDENTIEL",
          "INSTITUTIONNEL",
          "INDUSTRIEL",
          "COMMERCIAL",
          "AGRICOLE",
          "RÉSIDENTIEL",
          "INSTITUTIONNEL",
          "INDUSTRIEL",
          "INDUSTRIEL",
          "AGRICOLE",
          "RÉSIDENTIEL",
          "INSTITUTIONNEL",
          "INDUSTRIEL",
          "COMMERCIAL",
          "AGRICOLE",
          "RÉSIDENTIEL",
          "INSTITUTIONNEL",
          "INDUSTRIEL",
          "COMMERCIAL",
          "INDUSTRIEL",
          "COMMERCIAL",
          "AGRICOLE",
          "AGRICOLE",
          "RÉSIDENTIEL",
          "INSTITUTIONNEL",
          "INDUSTRIEL",
          "COMMERCIAL",
          "AGRICOLE",
          "RÉSIDENTIEL",
          "INSTITUTIONNEL",
          "INDUSTRIEL",
          "AGRICOLE",
          "COMMERCIAL",
          "RÉSIDENTIEL",
          "INSTITUTIONNEL",
          "INDUSTRIEL",
          "COMMERCIAL",
          "AGRICOLE",
          "RÉSIDENTIEL",
          "INSTITUTIONNEL",
          "INDUSTRIEL",
          "COMMERCIAL",
          "AGRICOLE",
          "INSTITUTIONNEL",
          "AGRICOLE",
          "INDUSTRIEL",
          "INDUSTRIEL",
          "COMMERCIAL",
          "AGRICOLE",
          "AGRICOLE",
          "COMMERCIAL",
          "INDUSTRIEL",
          "INSTITUTIONNEL",
          "RÉSIDENTIEL",
          "RÉSIDENTIEL",
          "INSTITUTIONNEL",
          "INSTITUTIONNEL",
          "COMMERCIAL",
          "AGRICOLE",
          "RÉSIDENTIEL",
          "INSTITUTIONNEL",
          "INDUSTRIEL",
          "COMMERCIAL",
          "AGRICOLE",
          "RÉSIDENTIEL",
          "INSTITUTIONNEL",
          "INDUSTRIEL",
          "INDUSTRIEL",
          "RÉSIDENTIEL",
          "COMMERCIAL",
          "COMMERCIAL",
          "AGRICOLE",
          "RÉSIDENTIEL",
          "INSTITUTIONNEL",
          "INDUSTRIEL",
          "COMMERCIAL",
          "AGRICOLE",
          "RÉSIDENTIEL",
          "INSTITUTIONNEL",
          "AGRICOLE",
          "INDUSTRIEL",
          "AGRICOLE",
          "RÉSIDENTIEL",
          "INSTITUTIONNEL",
          "INDUSTRIEL",
          "COMMERCIAL",
          "AGRICOLE",
          "RÉSIDENTIEL",
          "INSTITUTIONNEL",
          "INDUSTRIEL",
          "COMMERCIAL",
          "COMMERCIAL",
          "COMMERCIAL",
          "INSTITUTIONNEL",
          "INDUSTRIEL",
          "COMMERCIAL",
          "AGRICOLE",
          "RÉSIDENTIEL",
          "INSTITUTIONNEL",
          "INDUSTRIEL",
          "COMMERCIAL",
          "AGRICOLE",
          "RÉSIDENTIEL",
          "INSTITUTIONNEL",
          "INSTITUTIONNEL",
          "COMMERCIAL",
          "AGRICOLE",
          "RÉSIDENTIEL",
          "INSTITUTIONNEL",
          "INDUSTRIEL",
          "COMMERCIAL",
          "AGRICOLE",
          "RÉSIDENTIEL",
          "INSTITUTIONNEL",
          "INDUSTRIEL",
          "RÉSIDENTIEL",
          "RÉSIDENTIEL",
          "COMMERCIAL",
          "INDUSTRIEL",
          "COMMERCIAL",
          "AGRICOLE",
          "RÉSIDENTIEL",
          "INSTITUTIONNEL",
          "INDUSTRIEL",
          "COMMERCIAL",
          "RÉSIDENTIEL",
          "INSTITUTIONNEL",
          "AGRICOLE",
          "INDUSTRIEL",
          "AGRICOLE",
          "RÉSIDENTIEL",
          "INSTITUTIONNEL",
          "INDUSTRIEL",
          "COMMERCIAL",
          "AGRICOLE",
          "RÉSIDENTIEL",
          "INSTITUTIONNEL",
          "INDUSTRIEL",
          "COMMERCIAL",
          "RÉSIDENTIEL",
          "COMMERCIAL",
          "AGRICOLE",
          "INSTITUTIONNEL",
          "INSTITUTIONNEL",
          "RÉSIDENTIEL",
          "COMMERCIAL",
          "RÉSIDENTIEL",
          "INSTITUTIONNEL",
          "RÉSIDENTIEL",
          "COMMERCIAL",
          "INDUSTRIEL",
          "RÉSIDENTIEL",
          "INSTITUTIONNEL",
          "INDUSTRIEL",
          "RÉSIDENTIEL",
          "COMMERCIAL",
          "RÉSIDENTIEL",
          "INDUSTRIEL",
          "COMMERCIAL",
          "AGRICOLE",
          "AGRICOLE",
          "AGRICOLE",
          "AGRICOLE",
          "COMMERCIAL",
          "INDUSTRIEL",
          "RÉSIDENTIEL",
          "INSTITUTIONNEL",
          "INSTITUTIONNEL",
          "RÉSIDENTIEL",
          "INSTITUTIONNEL",
          "INSTITUTIONNEL",
          "AGRICOLE",
          "INDUSTRIEL",
          "COMMERCIAL",
          "COMMERCIAL",
          "INDUSTRIEL",
          "RÉSIDENTIEL",
          "AGRICOLE",
          "AGRICOLE",
          "AGRICOLE",
          "INDUSTRIEL",
          "COMMERCIAL",
          "INSTITUTIONNEL",
          "AGRICOLE",
          "COMMERCIAL",
          "COMMERCIAL",
          "INDUSTRIEL",
          "RÉSIDENTIEL",
          "COMMERCIAL",
          "INDUSTRIEL",
          "INSTITUTIONNEL",
          "RÉSIDENTIEL",
          "INSTITUTIONNEL",
          "INDUSTRIEL"
         ],
         "x0": " ",
         "xaxis": "x",
         "y": [
          0.0399367168739717,
          0.1705883808237309,
          0.0418366038712226,
          0.088196328460419,
          0.0423209140377096,
          0.0602587305156094,
          0.0520363360991531,
          0.064034102439315,
          0.0434900819651508,
          0.0987314625505682,
          0.0249639325757758,
          0.060993691311367,
          0.0270253015676434,
          0.0366936809595842,
          0.0383250871727926,
          0.0544630134731927,
          0.1321583853160806,
          0.018191877353491,
          0.067593689157395,
          0.0403759981198917,
          0.0242603956690759,
          0.0499020274836545,
          0.0776231334584802,
          0.0214762960594005,
          0.0242593630935268,
          0.681843769555043,
          0.0484914135123256,
          0.084501952365221,
          0.0238805098177882,
          0.0290317940513187,
          0.1712895062689022,
          0.049112989259726,
          0.0687847779226673,
          0.0372532872303589,
          0.1759391907526308,
          0.0941538949600904,
          0.0685832616800177,
          0.0308200588271029,
          0.177985004971461,
          0.0540931049217015,
          0.05752397263365,
          0.0364971620858928,
          0.0217774956079478,
          0.0168557360477145,
          0.0987249106629088,
          0.0667428856600628,
          0.0360102318783279,
          0.036694740637358,
          0.0513456542329276,
          0.0388773381661894,
          0.0691398235441625,
          0.0343077287929237,
          0.0965269582822317,
          0.0365920296429515,
          0.0841543198618668,
          0.0277624875067884,
          0.2557580559012232,
          0.0264719985790146,
          0.0593078626477225,
          0.0903092070576611,
          0.1141598377620329,
          0.4929292164040395,
          0.0397685672887959,
          0.1715696636112798,
          0.0807500699631998,
          0.0272973727297172,
          0.1649095431306792,
          0.0630863451990746,
          0.0515706104414553,
          0.2738134130527256,
          0.106852038497069,
          0.0529501730852579,
          0.0859781702419593,
          0.070723653020651,
          0.0876871025991179,
          0.0270546109885611,
          0.1782153296833412,
          0.0450301801269201,
          0.0606140733005998,
          0.1677798040168248,
          0.0505555715297738,
          0.0319559375491774,
          0.0546857228334216,
          0.0734360756208489,
          1.0591257006308306,
          0.05442946835833,
          0.0729942031982891,
          0.0849445430335167,
          0.0348581603249827,
          0.2127068484692698,
          0.0565776018396605,
          0.1031692299670944,
          0.0750053872212455,
          0.0821706914224359,
          0.0598500912516894,
          0.0741332668509448,
          0.0453185213173118,
          0.0317023804887252,
          0.0124073967360789,
          0.0318428293645585,
          0.0564416318884618,
          0.0561306431353296,
          0.1002078384936808,
          0.0483880373756369,
          0.0745561063317851,
          0.0632138831362653,
          0.0717056664235769,
          0.1224561287091551,
          0.0524897745384575,
          0.0864022320302361,
          0.0626986196839349,
          0.0536108229625032,
          0.0487075682306387,
          0.0418136729737406,
          0.0614286096776864,
          0.0476530648170452,
          0.059585075090997,
          0.0237788501084135,
          0.0906706104790677,
          0.0889797014079051,
          0.0235544368642077,
          0.0867983551181179,
          0.033835377875917,
          0.0542889690206143,
          0.0695436782695604,
          0.0520896657545254,
          0.0473882148611282,
          0.0633254872452207,
          0.04754302398184,
          0.0263252521733228,
          0.0554598158226594,
          0.0228674611894579,
          0.0541039510236087,
          0.0608917956875328,
          0.0432264215714175,
          0.1609767605556179,
          0.0312919295610405,
          0.0419606302568913,
          0.0477214235046767,
          0.0675279389019673,
          0.2688611128914882,
          0.0537699237289978,
          0.1413521903401458,
          0.0612304168081026,
          0.0346341024499451,
          0.0455665439313223,
          0.0255719072019119,
          0.0958700187892403,
          0.0549116018946603,
          0.1164097922874247,
          0.0463649563800715,
          0.0314164319158053,
          0.0626399422305136,
          0.0514517670287231,
          0.0415561719811391,
          0.0233604588928736,
          0.0779883886664126,
          null,
          0.0591437547601121,
          0.2268834909802319,
          0.0418379141548772,
          0.022289406310151,
          0.0528208656925431,
          0.0857122059240738,
          0.0474970374230993,
          0.0816280659563136,
          0.1143269803799848,
          0.0394569397881676,
          0.0528837683352435,
          0.0859710895239526,
          0.4076277118636399,
          0.0621297511789976,
          0.0684657181922853,
          0.0663594113142137,
          0.1458065840417295,
          0.0329128677975464,
          0.0449227739578302,
          0.0400880208591305,
          0.0300651163589926,
          0.0506350424160952,
          1.140676250366541,
          0.0366215238296243,
          0.0400741332996665,
          0.0416120366331383,
          0.0448251118243235,
          0.0731463999809298,
          0.071426228951374,
          0.073583963979745,
          0.0493759963049789,
          0.0837577927611504,
          0.0434841669405366,
          0.0668203220150385,
          0.0431068758510024,
          0.0394921563628776,
          0.0769662308643995,
          0.0366706589294755,
          0.036173236337523,
          0.0535834376091241,
          0.0821081085873609,
          0.0490621102039271,
          0.0244993483194961,
          0.0372285750830418,
          0.0355187377105359,
          0.0499666929278964,
          0.0255806212563461,
          0.0290269198287084,
          0.029760948882303,
          0.0419358430569789,
          0.0656907843482752,
          0.030938053213031,
          0.2297185075055692,
          0.1354871032828331,
          0.0393967929027237,
          0.0355797119256066,
          0.0223188413002966,
          0.0335455179330667,
          0.0502345597669201,
          0.0310412007995899,
          0.0286375029672496,
          0.1424838744902174,
          0.0375299508232402,
          0.0450114303716105,
          0.1692402687178614,
          0.0191881801919948,
          0.0482434303039449,
          0.0496773044435606,
          0.0519378786327502,
          0.0401954471997973,
          0.1010467903904455,
          0.0421828690113154,
          0.050254830735983,
          0.0355367751434929,
          0.0950927593625264,
          0.0338536717382683,
          0.0235304285759864,
          0.0534345844483258,
          0.0314174439369044,
          0.0627748242128806,
          0.0515978432920437,
          0.0638847795775226,
          0.0336001532816757,
          0.0382465780114396,
          0.0268453129952716,
          0.0263155904378673,
          0.1548767144785529,
          0.0495326248816991,
          0.0304084824480117,
          0.0288400121831565,
          0.0366557816396119,
          0.0657572117686465,
          0.0303096149312511,
          0.0396477724033936,
          0.0295338686972243,
          0.0792815768582373,
          0.0778245603553663,
          0.0988831384554348,
          0.065440231953478,
          0.0322676533639839,
          0.096032715036769,
          0.1524552114235671,
          0.0267264220533216,
          0.0572031825588299,
          0.1184951885442412,
          0.1060512908456682,
          0.0855898549475575,
          0.0364620230965199,
          0.0412696781645613,
          null,
          0.0333454125017297,
          0.0450207000947815,
          0.0305351904875748,
          0.0298324489750641,
          0.2068568062411366,
          0.0350074664940483,
          0.0344333297454748,
          0.0308005694252704,
          0.0406197630572263,
          0.2269361801945566,
          0.0337209230434935,
          0.0378969905125251,
          0.0340739277466892,
          0.1342142644419641,
          0.0817671145153262,
          0.0330149082677064,
          0.0465402843037283,
          0.1616664056338406,
          0.0424651223122647,
          0.0377152929526195,
          0.0063300488535751,
          0.0417290160841163,
          0.2494409890130301,
          0.0334232287776134,
          0.0295931028980579,
          0.0232234411859223,
          0.0463682715788189,
          0.0334401848487852,
          0.1143215141676107,
          0.2056717017531912,
          0.0384806191528663,
          0.0326436602197495,
          0.1198109712129144,
          0.0305981097740957,
          0.1656055714841266,
          0.0097746717434632,
          0.0283514259830426,
          0.1081529897587208,
          0.04161810394308,
          0.1749994195071407,
          0.0567100102054131,
          0.1602165482652206,
          0.039693138137724,
          0.0349569692469853,
          0.1654730535579584,
          0.031692512848384,
          0.097432995429001,
          0.0774946901597627,
          0.0644974276765197,
          0.0469766180526407,
          0.0531463322446083,
          0.0668896366846285,
          0.0271409875240964,
          0.0358154116466842,
          0.0299249552178048,
          0.0449708464268962,
          0.0778449547692852,
          0.088445960889946,
          0.0570987574647132,
          0.1624072595077915,
          0.0273719642438325,
          0.0872566576512722,
          0.0348508587398871,
          0.0428596312663891,
          0.0342130744891399,
          0.0244483146349202,
          0.0901540202340673,
          0.0499048055865617,
          0.0941245875721347,
          0.0228058396939065,
          0.0379640302185896,
          0.0406232002577396,
          0.0535861978661408,
          0.0510428657307175,
          0.025035113116973,
          0.038613263107805,
          0.0336118436697296,
          0.094524929162656,
          0.0264791533049003,
          0.0678904243860871,
          0.1759340184623137,
          0.0417645042615241,
          0.0284835793616997,
          0.040718749689633,
          0.0468978224397089,
          0.0444616600425703,
          0.0542930042826534,
          0.0445800646742668,
          0.2192307810950431,
          0.0371851808660611,
          0.0769821340123329,
          0.0477447319778245,
          0.1450532267999941,
          0.4021946664394351,
          0.0407537050171995,
          0.086855458588129,
          0.0437685968087253,
          0.044839586673522,
          0.0481456625177322,
          0.0351246011890029,
          0.0644691913927695,
          0.0380897083506043,
          0.0450272555597938,
          0.0367665803341657,
          0.0350543632175419,
          0.0219807254127803,
          0.0723697311818405,
          0.0313337767740369,
          0.0321554679211593,
          0.0671927999532623,
          0.014001056515025,
          0.066278576966757,
          0.033857093641263,
          0.0605907309006629,
          0.0455878024484501,
          0.0352162633968149,
          null,
          0.1361845970364826,
          0.0672360498556792,
          null,
          0.06063311829039,
          0.0769255149153188,
          0.0553783168072129,
          0.0433058016735902,
          0.0932749249036321,
          0.0516697130625761,
          0.1455006381247071,
          0.0309200452024838,
          null,
          0.0408202859776182,
          0.0579533315952832,
          0.0555982097773388,
          0.035333294349918,
          0.0681418557486722,
          0.0584423650753639,
          0.058075383352767,
          0.0741577172041936,
          0.1020930436164258,
          0.1358009710986869,
          0.0486698749229016,
          0.0366581018017998,
          0.0272937299815744,
          0.0667809385761802,
          0.0630246678297964,
          0.0384738170092235,
          0.0537721892679705,
          0.2110935986581342,
          0.0795316304934572,
          0.3321468645979407,
          0.1164855878833987,
          0.0445083412797365,
          0.0383412923390234,
          0.0427419376914999,
          0.0853599299757917,
          1.9775773595492232,
          0.039748094162422,
          0.0458328896370547,
          0.0865984073030829,
          0.0627259524870366,
          0.0556692236695328,
          0.2210555500286001,
          0.1111905555411786,
          0.0318868251513042,
          0.2614107416232454,
          0.041450506185332,
          0.0438140875032172,
          0.0566657391518862,
          0.2262411591767661
         ],
         "y0": " ",
         "yaxis": "y"
        }
       ],
       "layout": {
        "boxmode": "group",
        "legend": {
         "tracegroupgap": 0
        },
        "margin": {
         "t": 60
        },
        "template": {
         "data": {
          "bar": [
           {
            "error_x": {
             "color": "#2a3f5f"
            },
            "error_y": {
             "color": "#2a3f5f"
            },
            "marker": {
             "line": {
              "color": "#E5ECF6",
              "width": 0.5
             },
             "pattern": {
              "fillmode": "overlay",
              "size": 10,
              "solidity": 0.2
             }
            },
            "type": "bar"
           }
          ],
          "barpolar": [
           {
            "marker": {
             "line": {
              "color": "#E5ECF6",
              "width": 0.5
             },
             "pattern": {
              "fillmode": "overlay",
              "size": 10,
              "solidity": 0.2
             }
            },
            "type": "barpolar"
           }
          ],
          "carpet": [
           {
            "aaxis": {
             "endlinecolor": "#2a3f5f",
             "gridcolor": "white",
             "linecolor": "white",
             "minorgridcolor": "white",
             "startlinecolor": "#2a3f5f"
            },
            "baxis": {
             "endlinecolor": "#2a3f5f",
             "gridcolor": "white",
             "linecolor": "white",
             "minorgridcolor": "white",
             "startlinecolor": "#2a3f5f"
            },
            "type": "carpet"
           }
          ],
          "choropleth": [
           {
            "colorbar": {
             "outlinewidth": 0,
             "ticks": ""
            },
            "type": "choropleth"
           }
          ],
          "contour": [
           {
            "colorbar": {
             "outlinewidth": 0,
             "ticks": ""
            },
            "colorscale": [
             [
              0,
              "#0d0887"
             ],
             [
              0.1111111111111111,
              "#46039f"
             ],
             [
              0.2222222222222222,
              "#7201a8"
             ],
             [
              0.3333333333333333,
              "#9c179e"
             ],
             [
              0.4444444444444444,
              "#bd3786"
             ],
             [
              0.5555555555555556,
              "#d8576b"
             ],
             [
              0.6666666666666666,
              "#ed7953"
             ],
             [
              0.7777777777777778,
              "#fb9f3a"
             ],
             [
              0.8888888888888888,
              "#fdca26"
             ],
             [
              1,
              "#f0f921"
             ]
            ],
            "type": "contour"
           }
          ],
          "contourcarpet": [
           {
            "colorbar": {
             "outlinewidth": 0,
             "ticks": ""
            },
            "type": "contourcarpet"
           }
          ],
          "heatmap": [
           {
            "colorbar": {
             "outlinewidth": 0,
             "ticks": ""
            },
            "colorscale": [
             [
              0,
              "#0d0887"
             ],
             [
              0.1111111111111111,
              "#46039f"
             ],
             [
              0.2222222222222222,
              "#7201a8"
             ],
             [
              0.3333333333333333,
              "#9c179e"
             ],
             [
              0.4444444444444444,
              "#bd3786"
             ],
             [
              0.5555555555555556,
              "#d8576b"
             ],
             [
              0.6666666666666666,
              "#ed7953"
             ],
             [
              0.7777777777777778,
              "#fb9f3a"
             ],
             [
              0.8888888888888888,
              "#fdca26"
             ],
             [
              1,
              "#f0f921"
             ]
            ],
            "type": "heatmap"
           }
          ],
          "heatmapgl": [
           {
            "colorbar": {
             "outlinewidth": 0,
             "ticks": ""
            },
            "colorscale": [
             [
              0,
              "#0d0887"
             ],
             [
              0.1111111111111111,
              "#46039f"
             ],
             [
              0.2222222222222222,
              "#7201a8"
             ],
             [
              0.3333333333333333,
              "#9c179e"
             ],
             [
              0.4444444444444444,
              "#bd3786"
             ],
             [
              0.5555555555555556,
              "#d8576b"
             ],
             [
              0.6666666666666666,
              "#ed7953"
             ],
             [
              0.7777777777777778,
              "#fb9f3a"
             ],
             [
              0.8888888888888888,
              "#fdca26"
             ],
             [
              1,
              "#f0f921"
             ]
            ],
            "type": "heatmapgl"
           }
          ],
          "histogram": [
           {
            "marker": {
             "pattern": {
              "fillmode": "overlay",
              "size": 10,
              "solidity": 0.2
             }
            },
            "type": "histogram"
           }
          ],
          "histogram2d": [
           {
            "colorbar": {
             "outlinewidth": 0,
             "ticks": ""
            },
            "colorscale": [
             [
              0,
              "#0d0887"
             ],
             [
              0.1111111111111111,
              "#46039f"
             ],
             [
              0.2222222222222222,
              "#7201a8"
             ],
             [
              0.3333333333333333,
              "#9c179e"
             ],
             [
              0.4444444444444444,
              "#bd3786"
             ],
             [
              0.5555555555555556,
              "#d8576b"
             ],
             [
              0.6666666666666666,
              "#ed7953"
             ],
             [
              0.7777777777777778,
              "#fb9f3a"
             ],
             [
              0.8888888888888888,
              "#fdca26"
             ],
             [
              1,
              "#f0f921"
             ]
            ],
            "type": "histogram2d"
           }
          ],
          "histogram2dcontour": [
           {
            "colorbar": {
             "outlinewidth": 0,
             "ticks": ""
            },
            "colorscale": [
             [
              0,
              "#0d0887"
             ],
             [
              0.1111111111111111,
              "#46039f"
             ],
             [
              0.2222222222222222,
              "#7201a8"
             ],
             [
              0.3333333333333333,
              "#9c179e"
             ],
             [
              0.4444444444444444,
              "#bd3786"
             ],
             [
              0.5555555555555556,
              "#d8576b"
             ],
             [
              0.6666666666666666,
              "#ed7953"
             ],
             [
              0.7777777777777778,
              "#fb9f3a"
             ],
             [
              0.8888888888888888,
              "#fdca26"
             ],
             [
              1,
              "#f0f921"
             ]
            ],
            "type": "histogram2dcontour"
           }
          ],
          "mesh3d": [
           {
            "colorbar": {
             "outlinewidth": 0,
             "ticks": ""
            },
            "type": "mesh3d"
           }
          ],
          "parcoords": [
           {
            "line": {
             "colorbar": {
              "outlinewidth": 0,
              "ticks": ""
             }
            },
            "type": "parcoords"
           }
          ],
          "pie": [
           {
            "automargin": true,
            "type": "pie"
           }
          ],
          "scatter": [
           {
            "fillpattern": {
             "fillmode": "overlay",
             "size": 10,
             "solidity": 0.2
            },
            "type": "scatter"
           }
          ],
          "scatter3d": [
           {
            "line": {
             "colorbar": {
              "outlinewidth": 0,
              "ticks": ""
             }
            },
            "marker": {
             "colorbar": {
              "outlinewidth": 0,
              "ticks": ""
             }
            },
            "type": "scatter3d"
           }
          ],
          "scattercarpet": [
           {
            "marker": {
             "colorbar": {
              "outlinewidth": 0,
              "ticks": ""
             }
            },
            "type": "scattercarpet"
           }
          ],
          "scattergeo": [
           {
            "marker": {
             "colorbar": {
              "outlinewidth": 0,
              "ticks": ""
             }
            },
            "type": "scattergeo"
           }
          ],
          "scattergl": [
           {
            "marker": {
             "colorbar": {
              "outlinewidth": 0,
              "ticks": ""
             }
            },
            "type": "scattergl"
           }
          ],
          "scattermapbox": [
           {
            "marker": {
             "colorbar": {
              "outlinewidth": 0,
              "ticks": ""
             }
            },
            "type": "scattermapbox"
           }
          ],
          "scatterpolar": [
           {
            "marker": {
             "colorbar": {
              "outlinewidth": 0,
              "ticks": ""
             }
            },
            "type": "scatterpolar"
           }
          ],
          "scatterpolargl": [
           {
            "marker": {
             "colorbar": {
              "outlinewidth": 0,
              "ticks": ""
             }
            },
            "type": "scatterpolargl"
           }
          ],
          "scatterternary": [
           {
            "marker": {
             "colorbar": {
              "outlinewidth": 0,
              "ticks": ""
             }
            },
            "type": "scatterternary"
           }
          ],
          "surface": [
           {
            "colorbar": {
             "outlinewidth": 0,
             "ticks": ""
            },
            "colorscale": [
             [
              0,
              "#0d0887"
             ],
             [
              0.1111111111111111,
              "#46039f"
             ],
             [
              0.2222222222222222,
              "#7201a8"
             ],
             [
              0.3333333333333333,
              "#9c179e"
             ],
             [
              0.4444444444444444,
              "#bd3786"
             ],
             [
              0.5555555555555556,
              "#d8576b"
             ],
             [
              0.6666666666666666,
              "#ed7953"
             ],
             [
              0.7777777777777778,
              "#fb9f3a"
             ],
             [
              0.8888888888888888,
              "#fdca26"
             ],
             [
              1,
              "#f0f921"
             ]
            ],
            "type": "surface"
           }
          ],
          "table": [
           {
            "cells": {
             "fill": {
              "color": "#EBF0F8"
             },
             "line": {
              "color": "white"
             }
            },
            "header": {
             "fill": {
              "color": "#C8D4E3"
             },
             "line": {
              "color": "white"
             }
            },
            "type": "table"
           }
          ]
         },
         "layout": {
          "annotationdefaults": {
           "arrowcolor": "#2a3f5f",
           "arrowhead": 0,
           "arrowwidth": 1
          },
          "autotypenumbers": "strict",
          "coloraxis": {
           "colorbar": {
            "outlinewidth": 0,
            "ticks": ""
           }
          },
          "colorscale": {
           "diverging": [
            [
             0,
             "#8e0152"
            ],
            [
             0.1,
             "#c51b7d"
            ],
            [
             0.2,
             "#de77ae"
            ],
            [
             0.3,
             "#f1b6da"
            ],
            [
             0.4,
             "#fde0ef"
            ],
            [
             0.5,
             "#f7f7f7"
            ],
            [
             0.6,
             "#e6f5d0"
            ],
            [
             0.7,
             "#b8e186"
            ],
            [
             0.8,
             "#7fbc41"
            ],
            [
             0.9,
             "#4d9221"
            ],
            [
             1,
             "#276419"
            ]
           ],
           "sequential": [
            [
             0,
             "#0d0887"
            ],
            [
             0.1111111111111111,
             "#46039f"
            ],
            [
             0.2222222222222222,
             "#7201a8"
            ],
            [
             0.3333333333333333,
             "#9c179e"
            ],
            [
             0.4444444444444444,
             "#bd3786"
            ],
            [
             0.5555555555555556,
             "#d8576b"
            ],
            [
             0.6666666666666666,
             "#ed7953"
            ],
            [
             0.7777777777777778,
             "#fb9f3a"
            ],
            [
             0.8888888888888888,
             "#fdca26"
            ],
            [
             1,
             "#f0f921"
            ]
           ],
           "sequentialminus": [
            [
             0,
             "#0d0887"
            ],
            [
             0.1111111111111111,
             "#46039f"
            ],
            [
             0.2222222222222222,
             "#7201a8"
            ],
            [
             0.3333333333333333,
             "#9c179e"
            ],
            [
             0.4444444444444444,
             "#bd3786"
            ],
            [
             0.5555555555555556,
             "#d8576b"
            ],
            [
             0.6666666666666666,
             "#ed7953"
            ],
            [
             0.7777777777777778,
             "#fb9f3a"
            ],
            [
             0.8888888888888888,
             "#fdca26"
            ],
            [
             1,
             "#f0f921"
            ]
           ]
          },
          "colorway": [
           "#636efa",
           "#EF553B",
           "#00cc96",
           "#ab63fa",
           "#FFA15A",
           "#19d3f3",
           "#FF6692",
           "#B6E880",
           "#FF97FF",
           "#FECB52"
          ],
          "font": {
           "color": "#2a3f5f"
          },
          "geo": {
           "bgcolor": "white",
           "lakecolor": "white",
           "landcolor": "#E5ECF6",
           "showlakes": true,
           "showland": true,
           "subunitcolor": "white"
          },
          "hoverlabel": {
           "align": "left"
          },
          "hovermode": "closest",
          "mapbox": {
           "style": "light"
          },
          "paper_bgcolor": "white",
          "plot_bgcolor": "#E5ECF6",
          "polar": {
           "angularaxis": {
            "gridcolor": "white",
            "linecolor": "white",
            "ticks": ""
           },
           "bgcolor": "#E5ECF6",
           "radialaxis": {
            "gridcolor": "white",
            "linecolor": "white",
            "ticks": ""
           }
          },
          "scene": {
           "xaxis": {
            "backgroundcolor": "#E5ECF6",
            "gridcolor": "white",
            "gridwidth": 2,
            "linecolor": "white",
            "showbackground": true,
            "ticks": "",
            "zerolinecolor": "white"
           },
           "yaxis": {
            "backgroundcolor": "#E5ECF6",
            "gridcolor": "white",
            "gridwidth": 2,
            "linecolor": "white",
            "showbackground": true,
            "ticks": "",
            "zerolinecolor": "white"
           },
           "zaxis": {
            "backgroundcolor": "#E5ECF6",
            "gridcolor": "white",
            "gridwidth": 2,
            "linecolor": "white",
            "showbackground": true,
            "ticks": "",
            "zerolinecolor": "white"
           }
          },
          "shapedefaults": {
           "line": {
            "color": "#2a3f5f"
           }
          },
          "ternary": {
           "aaxis": {
            "gridcolor": "white",
            "linecolor": "white",
            "ticks": ""
           },
           "baxis": {
            "gridcolor": "white",
            "linecolor": "white",
            "ticks": ""
           },
           "bgcolor": "#E5ECF6",
           "caxis": {
            "gridcolor": "white",
            "linecolor": "white",
            "ticks": ""
           }
          },
          "title": {
           "x": 0.05
          },
          "xaxis": {
           "automargin": true,
           "gridcolor": "white",
           "linecolor": "white",
           "ticks": "",
           "title": {
            "standoff": 15
           },
           "zerolinecolor": "white",
           "zerolinewidth": 2
          },
          "yaxis": {
           "automargin": true,
           "gridcolor": "white",
           "linecolor": "white",
           "ticks": "",
           "title": {
            "standoff": 15
           },
           "zerolinecolor": "white",
           "zerolinewidth": 2
          }
         }
        },
        "xaxis": {
         "anchor": "y",
         "domain": [
          0,
          1
         ],
         "title": {
          "text": "SECTOR"
         }
        },
        "yaxis": {
         "anchor": "x",
         "domain": [
          0,
          1
         ],
         "title": {
          "text": "mean_temp__month_mape"
         }
        }
       }
      }
     },
     "metadata": {},
     "output_type": "display_data"
    }
   ],
   "source": [
    "import plotly.express as px\n",
    "\n",
    "px.box(df, x='SECTOR', y='mean_temp__month_mape')"
   ]
  },
  {
   "cell_type": "code",
   "execution_count": null,
   "metadata": {},
   "outputs": [],
   "source": []
  }
 ],
 "metadata": {
  "kernelspec": {
   "display_name": "venv",
   "language": "python",
   "name": "python3"
  },
  "language_info": {
   "codemirror_mode": {
    "name": "ipython",
    "version": 3
   },
   "file_extension": ".py",
   "mimetype": "text/x-python",
   "name": "python",
   "nbconvert_exporter": "python",
   "pygments_lexer": "ipython3",
   "version": "3.11.4"
  }
 },
 "nbformat": 4,
 "nbformat_minor": 2
}
