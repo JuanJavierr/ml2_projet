{
 "cells": [
  {
   "cell_type": "code",
   "execution_count": 1,
   "metadata": {},
   "outputs": [],
   "source": [
    "import random\n",
    "\n",
    "import numpy as np\n",
    "import pandas as pd\n",
    "from pytorch_tcn import TCN\n",
    "import torch\n",
    "import torch.nn as nn\n",
    "from sklearn.preprocessing import StandardScaler\n",
    "\n",
    "\n",
    "df = pd.read_csv(\"dataset.csv\")\n",
    "\n",
    "seed = 42\n",
    "random.seed(seed)\n",
    "np.random.seed(seed)\n",
    "torch.manual_seed(seed)\n",
    "if torch.cuda.is_available():\n",
    "    torch.cuda.manual_seed(seed)\n",
    "    torch.cuda.manual_seed_all(seed)\n",
    "\n"
   ]
  },
  {
   "cell_type": "code",
   "execution_count": 2,
   "metadata": {},
   "outputs": [
    {
     "name": "stdout",
     "output_type": "stream",
     "text": [
      "Administration régionale Kativik\n",
      "sector\n",
      "AGRICOLE          False\n",
      "COMMERCIAL         True\n",
      "INDUSTRIEL        False\n",
      "INSTITUTIONNEL     True\n",
      "RÉSIDENTIEL        True\n",
      "Name: 3, dtype: bool\n",
      "Caniapiscau\n",
      "sector\n",
      "AGRICOLE          False\n",
      "COMMERCIAL         True\n",
      "INDUSTRIEL         True\n",
      "INSTITUTIONNEL     True\n",
      "RÉSIDENTIEL        True\n",
      "Name: 15, dtype: bool\n",
      "Le Golfe-du-Saint-Laurent\n",
      "sector\n",
      "AGRICOLE          False\n",
      "COMMERCIAL         True\n",
      "INDUSTRIEL         True\n",
      "INSTITUTIONNEL     True\n",
      "RÉSIDENTIEL        True\n",
      "Name: 45, dtype: bool\n"
     ]
    }
   ],
   "source": [
    "\n",
    "pd.options.display.max_rows = 999\n",
    "count_by_sec_and_mrc = df.groupby([\"sector\", \"mrc\"]).count().unstack().tavg.T.reset_index()\n",
    "\n",
    "for i, row in count_by_sec_and_mrc.iterrows():\n",
    "    mrc = row[\"mrc\"]\n",
    "    row = row.drop(\"mrc\")\n",
    "    if (row == 96).all():\n",
    "        pass\n",
    "    else:\n",
    "        print(mrc)\n",
    "        print((row == 96))\n",
    "\n",
    "\n",
    "def remove_incomplete_mrc_sectors(df):\n",
    "    unwanted_mrc_sectors = [\n",
    "        (\"Administration régionale Kativik\", \"AGRICOLE\"),\n",
    "        (\"Administration régionale Kativik\", \"INDUSTRIEL\"),\n",
    "        (\"Caniapiscau\", \"AGRICOLE\"),\n",
    "        (\"Le Golfe-du-Saint-Laurent\", \"AGRICOLE\")\n",
    "    ]\n",
    "\n",
    "    for mrc, sector in unwanted_mrc_sectors:\n",
    "        df = df[~((df[\"mrc\"] == mrc) & (df[\"sector\"] == sector))]\n",
    "\n",
    "\n",
    "    return df\n",
    "\n",
    "df = remove_incomplete_mrc_sectors(df)\n",
    "df[\"sector_mrc\"] = df[\"sector\"] + df[\"mrc\"]\n",
    "sector_mrcs = df[\"sector_mrc\"].unique()\n"
   ]
  },
  {
   "cell_type": "code",
   "execution_count": 3,
   "metadata": {},
   "outputs": [],
   "source": [
    "\n",
    "\n",
    "def preprocess(df):\n",
    "    new_df = pd.DataFrame()\n",
    "    for sector_mrc in sector_mrcs:\n",
    "        sector_mrc_df = df[df[\"sector_mrc\"] == sector_mrc].sort_index()\n",
    "        sector_mrc_df[\"total_kwh\"] = sector_mrc_df[\"total_kwh\"].interpolate(method=\"index\")\n",
    "\n",
    "        new_df = pd.concat([new_df, sector_mrc_df])\n",
    "\n",
    "    return new_df\n",
    "df = preprocess(df)\n",
    "\n",
    "df = df.set_index(pd.to_datetime(df.date, format=\"%Y-%m-%d\")).sort_index()\n",
    "\n",
    "\n",
    "\n",
    "train_df = df[\"2016\":\"2021\"]\n",
    "validation_df = df[\"2022\":\"2022\"]\n",
    "test_df = df[\"2023\":]\n",
    "df = df.drop(columns=[\"date\"])\n",
    "df = df.sort_values([\"mrc\", \"sector\", \"date\"])\n",
    "\n",
    "\n",
    "# df = torch.tensor(df).float()\n",
    "\n",
    "\n",
    "# kwh_scaler = StandardScaler()\n",
    "# temp_scaler = StandardScaler()\n",
    "# df[\"total_kwh\"] = kwh_scaler.fit_transform(df[[\"total_kwh\"]])\n",
    "# df[\"tavg\"] = temp_scaler.fit_transform(df[[\"tavg\"]])"
   ]
  },
  {
   "cell_type": "code",
   "execution_count": null,
   "metadata": {},
   "outputs": [],
   "source": [
    "def get_sequence(df: pd.DataFrame, sector_mrc: str):\n",
    "    \"\"\"Get a sequence of total_kwh and tavg for a given sector_mrc\"\"\"\n",
    "\n",
    "    # print(mrc)\n",
    "    sequence = df[df.sector_mrc == sector_mrc]\n",
    "    sequence = sequence[[\"total_kwh\", \"tavg\"]]\n",
    "\n",
    "\n",
    "\n",
    "    # sequence[\"total_kwh_diff\"] = sequence[\"total_kwh\"].diff()\n",
    "\n",
    "    kwh_scaler = StandardScaler()\n",
    "    temp_scaler = StandardScaler()\n",
    "    sequence[['total_kwh']] = kwh_scaler.fit_transform(sequence[['total_kwh']])\n",
    "    sequence[['tavg']] = temp_scaler.fit_transform(sequence[['tavg']])\n",
    "\n",
    "    # Label is the next total_kwh\n",
    "    sequence[\"label\"] = sequence.total_kwh.shift(-1)\n",
    "    sequence = sequence[[\"total_kwh\", \"tavg\", \"label\"]]\n",
    "\n",
    "    # Drop the last row\n",
    "    sequence = sequence.dropna()\n",
    "\n",
    "    sequence = torch.tensor(sequence.values).float()\n",
    "\n",
    "    # print(sequence.shape)\n",
    "\n",
    "    return sequence, kwh_scaler, temp_scaler\n",
    "\n",
    "\n",
    "def get_n_sequences(sector_mrc: list[str], train=True, test=False):\n",
    "    \"\"\"Get a tensor of sequences for a list of sector_mrcs\"\"\"\n",
    "    if train:\n",
    "        df = train_df\n",
    "    elif test:\n",
    "        df = test_df\n",
    "    else:\n",
    "        df = validation_df\n",
    "\n",
    "    sequences = []\n",
    "    kwh_scalers = []\n",
    "    temp_scalers = []\n",
    "    consumptions = []\n",
    "    for sector_mrc in sector_mrc:\n",
    "        sequence, kwh_scaler, temp_scaler = get_sequence(df, sector_mrc)\n",
    "        sequences.append(sequence)\n",
    "        kwh_scalers.append(kwh_scaler)\n",
    "        temp_scalers.append(temp_scaler)\n",
    "\n",
    "    stacked = torch.stack(sequences)\n",
    "    return stacked, kwh_scalers, temp_scalers\n",
    "\n",
    "@torch.inference_mode()\n",
    "def validate(model):\n",
    "    mapes = []\n",
    "    rmses = []\n",
    "    model = model.eval()\n",
    "    with torch.no_grad():\n",
    "        for sector_mrc in sector_mrcs:\n",
    "            batch, kwh_scaler, temp_scaler = get_n_sequences([sector_mrc], train=False)\n",
    "            batch = batch.permute(0, 2, 1)\n",
    "            X = batch[:, :-1, :]\n",
    "            y = batch[:, -1, :]\n",
    "            output = model(X)\n",
    "            # y = kwh_scaler[0].inverse_transform(y)\n",
    "            # output = kwh_scaler[0].inverse_transform(output.squeeze(1))\n",
    "            # plt.plot(y.squeeze())\n",
    "            # plt.plot(output.squeeze())\n",
    "            # plt.legend([\"Actual\", \"Forecast\"])\n",
    "            # plt.show()\n",
    "            # mape = (abs(y - output) / abs(y)).mean()\n",
    "\n",
    "            # print(f\"MAPE for {sector_mrc} is {mape}\")\n",
    "            # mapes.append(mape)\n",
    "            rmse = torch.sqrt(((output.squeeze() - y.squeeze()) ** 2).mean())\n",
    "            rmses.append(rmse)\n",
    "\n",
    "    return rmses\n",
    "# def get_windowed_sequence(sequence, window_size=10):\n",
    "#     '''\n",
    "#     Args:\n",
    "#         - Sequence: first dimension is the batch size, second dimension is the sequence length, third dimension is the number of features\n",
    "#     Returns:\n",
    "#         - Windowed sequence: first dimension is the batch size, second dimension is the sequence length, third dimension is the number of features * window_size\n",
    "#     '''\n",
    "#     batch_size, sequence_length, num_features = sequence.shape\n",
    "#     windowed_sequence = torch.zeros((batch_size, sequence_length, num_features * (1 + window_size)))\n",
    "#     windowed_sequence[:, :, :num_features] = sequence\n",
    "#     for i in range(1, window_size + 1):\n",
    "#         windowed_sequence[:, i:, num_features * i:num_features * (i + 1)] = sequence[:, :-i, :]\n",
    "\n",
    "#     # Drop rows for which the window is incomplete\n",
    "#     windowed_sequence = windowed_sequence[:, window_size:, :]\n",
    "\n",
    "#     # print(windowed_sequence.shape)\n",
    "\n",
    "#     return windowed_sequence\n",
    "def train_model(model, optimizer):\n",
    "    optim = optimizer\n",
    "    criterion = nn.MSELoss()\n",
    "    losses = []\n",
    "    validation_losses = []\n",
    "\n",
    "    for epoch in range(EPOCHS):\n",
    "        epoch_losses = []\n",
    "        for i in range(0, len(sector_mrcs), BATCH_SIZE):\n",
    "            model = model.train()\n",
    "            sector_mrc = sector_mrcs[i:i + BATCH_SIZE]\n",
    "\n",
    "            batch, kwh_scalers, temp_scalers = get_n_sequences(sector_mrc)\n",
    "\n",
    "            # I need: A tensor of shape (batch_size) or (1, batch_size) with starting levels for each mrc_sector\n",
    "\n",
    "            batch = batch.permute(0, 2, 1)\n",
    "            X = batch[:, :-1, :]\n",
    "            y = batch[:, -1, :]\n",
    "\n",
    "\n",
    "            optim.zero_grad()\n",
    "            output = model(X)\n",
    "\n",
    "\n",
    "            loss = criterion(output.squeeze(), y)\n",
    "            loss.backward()\n",
    "            optim.step()\n",
    "            # print(f\"Epoch {epoch} Batch {i} Loss {loss.item()}\")\n",
    "\n",
    "            epoch_losses.append(loss.item())\n",
    "\n",
    "        validation_loss = validate(model)\n",
    "        # print(f\"Validation Loss {pd.Series(validation_loss).mean()}\")\n",
    "        validation_losses.append(pd.Series(validation_loss).mean())\n",
    "        losses.append(pd.Series(epoch_losses).mean())\n",
    "        print(f\"Epoch {epoch} Training Loss: {pd.Series(losses).mean()} Validation Loss: {pd.Series(validation_loss).mean()}\")\n",
    "\n",
    "    return model, losses, validation_losses"
   ]
  },
  {
   "cell_type": "code",
   "execution_count": 11,
   "metadata": {},
   "outputs": [
    {
     "ename": "TypeError",
     "evalue": "train_model() missing 1 required positional argument: 'optimizer'",
     "output_type": "error",
     "traceback": [
      "\u001b[0;31m---------------------------------------------------------------------------\u001b[0m",
      "\u001b[0;31mTypeError\u001b[0m                                 Traceback (most recent call last)",
      "Cell \u001b[0;32mIn[11], line 35\u001b[0m\n\u001b[1;32m     16\u001b[0m \u001b[38;5;28;01mfor\u001b[39;00m value \u001b[38;5;129;01min\u001b[39;00m values:\n\u001b[1;32m     17\u001b[0m     model \u001b[38;5;241m=\u001b[39m TCN(\n\u001b[1;32m     18\u001b[0m         num_inputs \u001b[38;5;241m=\u001b[39m \u001b[38;5;241m2\u001b[39m,\n\u001b[1;32m     19\u001b[0m         num_channels\u001b[38;5;241m=\u001b[39m value \u001b[38;5;28;01mif\u001b[39;00m hyperparam \u001b[38;5;241m==\u001b[39m \u001b[38;5;124m\"\u001b[39m\u001b[38;5;124mnum_channels\u001b[39m\u001b[38;5;124m\"\u001b[39m \u001b[38;5;28;01melse\u001b[39;00m best_hyperparams[\u001b[38;5;124m\"\u001b[39m\u001b[38;5;124mnum_channels\u001b[39m\u001b[38;5;124m\"\u001b[39m][\u001b[38;5;124m\"\u001b[39m\u001b[38;5;124mvalue\u001b[39m\u001b[38;5;124m\"\u001b[39m],\n\u001b[0;32m   (...)\u001b[0m\n\u001b[1;32m     33\u001b[0m         output_activation \u001b[38;5;241m=\u001b[39m  value \u001b[38;5;28;01mif\u001b[39;00m hyperparam \u001b[38;5;241m==\u001b[39m \u001b[38;5;124m\"\u001b[39m\u001b[38;5;124moutput_activation\u001b[39m\u001b[38;5;124m\"\u001b[39m \u001b[38;5;28;01melse\u001b[39;00m best_hyperparams[\u001b[38;5;124m\"\u001b[39m\u001b[38;5;124moutput_activation\u001b[39m\u001b[38;5;124m\"\u001b[39m][\u001b[38;5;124m\"\u001b[39m\u001b[38;5;124mvalue\u001b[39m\u001b[38;5;124m\"\u001b[39m],\n\u001b[1;32m     34\u001b[0m     )\n\u001b[0;32m---> 35\u001b[0m     model \u001b[38;5;241m=\u001b[39m \u001b[43mtrain_model\u001b[49m\u001b[43m(\u001b[49m\u001b[43mmodel\u001b[49m\u001b[43m)\u001b[49m\n\u001b[1;32m     36\u001b[0m     mapes \u001b[38;5;241m=\u001b[39m validate(model)\n\u001b[1;32m     37\u001b[0m     \u001b[38;5;28mprint\u001b[39m(\u001b[38;5;124mf\u001b[39m\u001b[38;5;124m\"\u001b[39m\u001b[38;5;124mHyperparam \u001b[39m\u001b[38;5;132;01m{\u001b[39;00mhyperparam\u001b[38;5;132;01m}\u001b[39;00m\u001b[38;5;124m Value \u001b[39m\u001b[38;5;132;01m{\u001b[39;00mvalue\u001b[38;5;132;01m}\u001b[39;00m\u001b[38;5;124m MAPE \u001b[39m\u001b[38;5;132;01m{\u001b[39;00mpd\u001b[38;5;241m.\u001b[39mSeries(mapes)\u001b[38;5;241m.\u001b[39mmean()\u001b[38;5;132;01m}\u001b[39;00m\u001b[38;5;124m\"\u001b[39m)\n",
      "\u001b[0;31mTypeError\u001b[0m: train_model() missing 1 required positional argument: 'optimizer'"
     ]
    }
   ],
   "source": [
    "\n",
    "\n",
    "hyperparams = {\n",
    "    \"kernel_size\": [2, 3, 4, 5],\n",
    "    \"num_channels\": [[16, 32], [32, 64], [64, 128], [128, 256], [16, 32, 64]],\n",
    "    \"dropout\": [0.1, 0.2, 0.3],\n",
    "    \"use_norm\": ['weight_norm', 'batch_norm', 'layer_norm'],\n",
    "    \"activation\": ['relu', 'tanh', 'elu', 'leaky_relu', 'gelu'],\n",
    "    \"kernel_initializer\": ['xavier_uniform', 'xavier_normal', 'normal', 'uniform', 'kaiming_normal', 'kaiming_uniform'],\n",
    "    \"output_activation\": ['relu', 'tanh', 'elu', 'leaky_relu', 'gelu'],\n",
    "    \"use_skip_connections\": [True, False],\n",
    "}\n",
    "best_hyperparams = {key: {\"loss\": None, \"value\": value[0]} for key, value in hyperparams.items()}\n",
    "\n",
    "EPOCHS = 10\n",
    "BATCH_SIZE = 32\n",
    "for hyperparam, values in hyperparams.items():\n",
    "    for value in values:\n",
    "        model = TCN(\n",
    "            num_inputs = 2,\n",
    "            num_channels= value if hyperparam == \"num_channels\" else best_hyperparams[\"num_channels\"][\"value\"],\n",
    "            kernel_size =  value if hyperparam == \"kernel_size\" else best_hyperparams[\"kernel_size\"][\"value\"],\n",
    "            # dilation_reset: Optional[ int ] = None,\n",
    "            dropout =  value if hyperparam == \"dropout\" else best_hyperparams[\"dropout\"][\"value\"], # 0.2, 0.3\n",
    "            causal = True,\n",
    "            use_norm =  value if hyperparam == \"use_norm\" else best_hyperparams[\"use_norm\"][\"value\"], # 'batch_norm', 'layer_norm', 'weight_norm'\n",
    "            activation =  value if hyperparam == \"activation\" else best_hyperparams[\"activation\"][\"value\"],\n",
    "            kernel_initializer = value if hyperparam == \"kernel_initializer\" else best_hyperparams[\"kernel_initializer\"][\"value\"], # 'xavier_normal', 'normal', 'uniform', 'kaiming_normal', 'kaiming_uniform'\n",
    "            use_skip_connections = value if hyperparam == \"use_skip_connections\" else best_hyperparams[\"use_skip_connections\"][\"value\"],\n",
    "            # input_shape: str = 'NCL',\n",
    "            # embedding_shapes: Optional[ ArrayLike ] = None,\n",
    "            # embedding_mode: str = 'add',\n",
    "            # use_gate: bool = False,\n",
    "            output_projection = 1,\n",
    "            output_activation =  value if hyperparam == \"output_activation\" else best_hyperparams[\"output_activation\"][\"value\"],\n",
    "        )\n",
    "        model = train_model(model)\n",
    "        mapes = validate(model)\n",
    "        print(f\"Hyperparam {hyperparam} Value {value} MAPE {pd.Series(mapes).mean()}\")\n",
    "\n",
    "        if best_hyperparams[hyperparam][\"loss\"] is None or pd.Series(mapes).mean() < best_hyperparams[hyperparam][\"loss\"]:\n",
    "            best_hyperparams[hyperparam][\"loss\"] = pd.Series(mapes).mean()\n",
    "            best_hyperparams[hyperparam][\"value\"] = value\n",
    "\n",
    "    print(best_hyperparams)\n"
   ]
  },
  {
   "cell_type": "code",
   "execution_count": 115,
   "metadata": {},
   "outputs": [
    {
     "data": {
      "text/plain": [
       "{'kernel_size': {'loss': None, 'value': 2},\n",
       " 'num_channels': {'loss': None, 'value': [16, 32]},\n",
       " 'dropout': {'loss': None, 'value': 0.1},\n",
       " 'use_norm': {'loss': None, 'value': 'weight_norm'},\n",
       " 'activation': {'loss': None, 'value': 'relu'},\n",
       " 'kernel_initializer': {'loss': None, 'value': 'xavier_uniform'},\n",
       " 'output_activation': {'loss': None, 'value': 'relu'},\n",
       " 'use_skip_connections': {'loss': None, 'value': True}}"
      ]
     },
     "execution_count": 115,
     "metadata": {},
     "output_type": "execute_result"
    }
   ],
   "source": [
    "best_hyperparams"
   ]
  },
  {
   "cell_type": "code",
   "execution_count": 12,
   "metadata": {},
   "outputs": [
    {
     "name": "stdout",
     "output_type": "stream",
     "text": [
      "Epoch 0 Training Loss: 0.9165419638156891 Validation Loss: 0.8043935933244337\n",
      "Epoch 1 Training Loss: 0.9026195172752653 Validation Loss: 0.800184267376541\n",
      "Epoch 2 Training Loss: 0.8963831081276848 Validation Loss: 0.7977443310098911\n",
      "Epoch 3 Training Loss: 0.8927559703588486 Validation Loss: 0.7967700083321387\n",
      "Epoch 4 Training Loss: 0.8902924648353032 Validation Loss: 0.7961111506190869\n",
      "Epoch 5 Training Loss: 0.8884897813910531 Validation Loss: 0.7958950077721832\n",
      "Epoch 6 Training Loss: 0.8871019835374794 Validation Loss: 0.7957082625922807\n",
      "Epoch 7 Training Loss: 0.8859993762203625 Validation Loss: 0.7955648439739822\n",
      "Epoch 8 Training Loss: 0.8850827183988359 Validation Loss: 0.79547119140625\n",
      "Epoch 9 Training Loss: 0.8843179966722217 Validation Loss: 0.7954073564721904\n",
      "Epoch 10 Training Loss: 0.8836568470125076 Validation Loss: 0.7952470691925889\n",
      "Epoch 11 Training Loss: 0.8830848854212534 Validation Loss: 0.7951525766915137\n",
      "Epoch 12 Training Loss: 0.8825750626050509 Validation Loss: 0.795105260446531\n",
      "Epoch 13 Training Loss: 0.8821280407054084 Validation Loss: 0.7950027185842532\n",
      "Epoch 14 Training Loss: 0.8817201603026616 Validation Loss: 0.7949359438834934\n",
      "Epoch 15 Training Loss: 0.8813542827431644 Validation Loss: 0.7948637796104501\n",
      "Epoch 16 Training Loss: 0.8810172657004924 Validation Loss: 0.7947756566038919\n",
      "Epoch 17 Training Loss: 0.8807092157621231 Validation Loss: 0.794710001814256\n",
      "Epoch 18 Training Loss: 0.8804211542570501 Validation Loss: 0.7946092098131092\n",
      "Epoch 19 Training Loss: 0.8801530171717916 Validation Loss: 0.7946010204630161\n",
      "Epoch 20 Training Loss: 0.8799032009377771 Validation Loss: 0.7944988285729645\n",
      "Epoch 21 Training Loss: 0.8796671574765985 Validation Loss: 0.7945427150901304\n",
      "Epoch 22 Training Loss: 0.8794510209042093 Validation Loss: 0.7944515123279816\n",
      "Epoch 23 Training Loss: 0.8792394367711885 Validation Loss: 0.7943437208823108\n",
      "Epoch 24 Training Loss: 0.8790431611878532 Validation Loss: 0.7943273421821244\n",
      "Epoch 25 Training Loss: 0.8788551619419684 Validation Loss: 0.7942573477368836\n",
      "Epoch 26 Training Loss: 0.8786815431698289 Validation Loss: 0.794281005859375\n",
      "Epoch 27 Training Loss: 0.878513522294103 Validation Loss: 0.7942201806864607\n",
      "Epoch 28 Training Loss: 0.8783547599327389 Validation Loss: 0.7941768541248566\n",
      "Epoch 29 Training Loss: 0.8782038736911048 Validation Loss: 0.7941695047081063\n",
      "Epoch 30 Training Loss: 0.8780596422434953 Validation Loss: 0.794142066885572\n",
      "Epoch 31 Training Loss: 0.8779239380466087 Validation Loss: 0.7940174767730432\n",
      "Epoch 32 Training Loss: 0.8777933732255714 Validation Loss: 0.794079561845972\n",
      "Epoch 33 Training Loss: 0.877663343518722 Validation Loss: 0.7940384751066155\n",
      "Epoch 34 Training Loss: 0.877542816741126 Validation Loss: 0.7941053198018205\n",
      "Epoch 35 Training Loss: 0.8774271717383749 Validation Loss: 0.7940135570841098\n",
      "Epoch 36 Training Loss: 0.8773174036193538 Validation Loss: 0.7940004681228497\n",
      "Epoch 37 Training Loss: 0.8772107870282982 Validation Loss: 0.7939590314112672\n",
      "Epoch 38 Training Loss: 0.8771075027766244 Validation Loss: 0.7939062555995556\n",
      "Epoch 39 Training Loss: 0.8770108931830951 Validation Loss: 0.7940034078895499\n",
      "Epoch 40 Training Loss: 0.8769137459557231 Validation Loss: 0.794017126800817\n",
      "Epoch 41 Training Loss: 0.8768224870266557 Validation Loss: 0.7939915788283042\n",
      "Epoch 42 Training Loss: 0.8767343013983627 Validation Loss: 0.793920884438611\n",
      "Epoch 43 Training Loss: 0.8766472635718134 Validation Loss: 0.7938607592101491\n",
      "Epoch 44 Training Loss: 0.8765626123027196 Validation Loss: 0.7938637689712944\n",
      "Epoch 45 Training Loss: 0.8764811210010363 Validation Loss: 0.7938510299822606\n",
      "Epoch 46 Training Loss: 0.8764040137677932 Validation Loss: 0.7938485801766771\n",
      "Epoch 47 Training Loss: 0.8763279749878815 Validation Loss: 0.7939010760106078\n",
      "Epoch 48 Training Loss: 0.8762517667894114 Validation Loss: 0.7938190425207855\n",
      "Epoch 49 Training Loss: 0.8761798366478512 Validation Loss: 0.79394678238335\n"
     ]
    }
   ],
   "source": [
    "EPOCHS = 50\n",
    "BATCH_SIZE = 32\n",
    "\n",
    "model = TCN(\n",
    "    num_inputs = 2,\n",
    "    num_channels=[8, 16],\n",
    "    kernel_size = 3,\n",
    "    # dilation_reset: Optional[ int ] = None,\n",
    "    dropout = 0.1, # 0.2, 0.3\n",
    "    causal = True,\n",
    "    use_norm = 'weight_norm', # 'batch_norm', 'layer_norm', 'weight_norm'\n",
    "    activation = 'relu',\n",
    "    kernel_initializer = 'normal', # 'xavier_normal', 'normal', 'uniform', 'kaiming_normal', 'kaiming_uniform'\n",
    "    use_skip_connections = True,\n",
    "    # input_shape: str = 'NCL',\n",
    "    # embedding_shapes: Optional[ ArrayLike ] = None,\n",
    "    # embedding_mode: str = 'add',\n",
    "    # use_gate: bool = False,\n",
    "    output_projection = 1,\n",
    "    output_activation = 'gelu',\n",
    ")\n",
    "# optimizer = torch.optim.Adam(model.parameters(), lr=0.001)\n",
    "optimizer = torch.optim.RMSprop(model.parameters(), lr=0.001)\n",
    "model, losses, validation_losses = train_model(model, optimizer)"
   ]
  },
  {
   "cell_type": "code",
   "execution_count": 117,
   "metadata": {},
   "outputs": [
    {
     "name": "stdout",
     "output_type": "stream",
     "text": [
      "Epoch 0 Training Loss: 0.5753088508333478 Validation Loss: 0.7020227974707928\n",
      "Epoch 1 Training Loss: 0.5739362431424004 Validation Loss: 0.7014840502257741\n",
      "Epoch 2 Training Loss: 0.5731971561908722 Validation Loss: 0.7014983290926032\n",
      "Epoch 3 Training Loss: 0.5730707475117275 Validation Loss: 0.7007572979008386\n",
      "Epoch 4 Training Loss: 0.5731131340776171 Validation Loss: 0.7005471745762256\n",
      "Epoch 5 Training Loss: 0.573320882661002 Validation Loss: 0.7005069977646574\n",
      "Epoch 6 Training Loss: 0.5732216536998749 Validation Loss: 0.700441482963912\n",
      "Epoch 7 Training Loss: 0.5730788899319512 Validation Loss: 0.7001510760106078\n",
      "Epoch 8 Training Loss: 0.5731073665240455 Validation Loss: 0.7000605031984661\n",
      "Epoch 9 Training Loss: 0.5730269372463226 Validation Loss: 0.7002454285227925\n",
      "Epoch 10 Training Loss: 0.5729561146203573 Validation Loss: 0.700474030380949\n",
      "Epoch 11 Training Loss: 0.5728360123577573 Validation Loss: 0.7006282281438145\n",
      "Epoch 12 Training Loss: 0.5726695100029746 Validation Loss: 0.7009458629363173\n",
      "Epoch 13 Training Loss: 0.5727025127532531 Validation Loss: 0.7008080438736382\n",
      "Epoch 14 Training Loss: 0.5727168917655946 Validation Loss: 0.7009479627696746\n",
      "Epoch 15 Training Loss: 0.5727090481668711 Validation Loss: 0.7009270344305476\n"
     ]
    },
    {
     "ename": "KeyboardInterrupt",
     "evalue": "",
     "output_type": "error",
     "traceback": [
      "\u001b[0;31m---------------------------------------------------------------------------\u001b[0m",
      "\u001b[0;31mKeyboardInterrupt\u001b[0m                         Traceback (most recent call last)",
      "Cell \u001b[0;32mIn[117], line 2\u001b[0m\n\u001b[1;32m      1\u001b[0m optimizer \u001b[38;5;241m=\u001b[39m torch\u001b[38;5;241m.\u001b[39moptim\u001b[38;5;241m.\u001b[39mRMSprop(model\u001b[38;5;241m.\u001b[39mparameters(), lr\u001b[38;5;241m=\u001b[39m\u001b[38;5;241m0.0001\u001b[39m)\n\u001b[0;32m----> 2\u001b[0m model, losses2, validation_losses2 \u001b[38;5;241m=\u001b[39m \u001b[43mtrain_model\u001b[49m\u001b[43m(\u001b[49m\u001b[43mmodel\u001b[49m\u001b[43m,\u001b[49m\u001b[43m \u001b[49m\u001b[43moptimizer\u001b[49m\u001b[43m)\u001b[49m\n",
      "Cell \u001b[0;32mIn[114], line 147\u001b[0m, in \u001b[0;36mtrain_model\u001b[0;34m(model, optimizer)\u001b[0m\n\u001b[1;32m    143\u001b[0m     \u001b[38;5;66;03m# print(f\"Epoch {epoch} Batch {i} Loss {loss.item()}\")\u001b[39;00m\n\u001b[1;32m    145\u001b[0m     epoch_losses\u001b[38;5;241m.\u001b[39mappend(loss\u001b[38;5;241m.\u001b[39mitem())\n\u001b[0;32m--> 147\u001b[0m validation_loss \u001b[38;5;241m=\u001b[39m \u001b[43mvalidate\u001b[49m\u001b[43m(\u001b[49m\u001b[43mmodel\u001b[49m\u001b[43m)\u001b[49m\n\u001b[1;32m    148\u001b[0m \u001b[38;5;66;03m# print(f\"Validation Loss {pd.Series(validation_loss).mean()}\")\u001b[39;00m\n\u001b[1;32m    149\u001b[0m validation_losses\u001b[38;5;241m.\u001b[39mappend(pd\u001b[38;5;241m.\u001b[39mSeries(validation_loss)\u001b[38;5;241m.\u001b[39mmean())\n",
      "File \u001b[0;32m~/ml2_projet/venv/lib/python3.11/site-packages/torch/utils/_contextlib.py:116\u001b[0m, in \u001b[0;36mcontext_decorator.<locals>.decorate_context\u001b[0;34m(*args, **kwargs)\u001b[0m\n\u001b[1;32m    113\u001b[0m \u001b[38;5;129m@functools\u001b[39m\u001b[38;5;241m.\u001b[39mwraps(func)\n\u001b[1;32m    114\u001b[0m \u001b[38;5;28;01mdef\u001b[39;00m \u001b[38;5;21mdecorate_context\u001b[39m(\u001b[38;5;241m*\u001b[39margs, \u001b[38;5;241m*\u001b[39m\u001b[38;5;241m*\u001b[39mkwargs):\n\u001b[1;32m    115\u001b[0m     \u001b[38;5;28;01mwith\u001b[39;00m ctx_factory():\n\u001b[0;32m--> 116\u001b[0m         \u001b[38;5;28;01mreturn\u001b[39;00m \u001b[43mfunc\u001b[49m\u001b[43m(\u001b[49m\u001b[38;5;241;43m*\u001b[39;49m\u001b[43margs\u001b[49m\u001b[43m,\u001b[49m\u001b[43m \u001b[49m\u001b[38;5;241;43m*\u001b[39;49m\u001b[38;5;241;43m*\u001b[39;49m\u001b[43mkwargs\u001b[49m\u001b[43m)\u001b[49m\n",
      "Cell \u001b[0;32mIn[114], line 86\u001b[0m, in \u001b[0;36mvalidate\u001b[0;34m(model)\u001b[0m\n\u001b[1;32m     84\u001b[0m X \u001b[38;5;241m=\u001b[39m batch[:, :\u001b[38;5;241m-\u001b[39m\u001b[38;5;241m1\u001b[39m, :]\n\u001b[1;32m     85\u001b[0m y \u001b[38;5;241m=\u001b[39m batch[:, \u001b[38;5;241m-\u001b[39m\u001b[38;5;241m1\u001b[39m, :]\n\u001b[0;32m---> 86\u001b[0m output \u001b[38;5;241m=\u001b[39m \u001b[43mmodel\u001b[49m\u001b[43m(\u001b[49m\u001b[43mX\u001b[49m\u001b[43m)\u001b[49m\n\u001b[1;32m     87\u001b[0m \u001b[38;5;66;03m# y = kwh_scaler[0].inverse_transform(y)\u001b[39;00m\n\u001b[1;32m     88\u001b[0m \u001b[38;5;66;03m# output = kwh_scaler[0].inverse_transform(output.squeeze(1))\u001b[39;00m\n\u001b[1;32m     89\u001b[0m \u001b[38;5;66;03m# plt.plot(y.squeeze())\u001b[39;00m\n\u001b[0;32m   (...)\u001b[0m\n\u001b[1;32m     95\u001b[0m \u001b[38;5;66;03m# print(f\"MAPE for {sector_mrc} is {mape}\")\u001b[39;00m\n\u001b[1;32m     96\u001b[0m \u001b[38;5;66;03m# mapes.append(mape)\u001b[39;00m\n\u001b[1;32m     97\u001b[0m rmse \u001b[38;5;241m=\u001b[39m torch\u001b[38;5;241m.\u001b[39msqrt(((output\u001b[38;5;241m.\u001b[39msqueeze() \u001b[38;5;241m-\u001b[39m y\u001b[38;5;241m.\u001b[39msqueeze()) \u001b[38;5;241m*\u001b[39m\u001b[38;5;241m*\u001b[39m \u001b[38;5;241m2\u001b[39m)\u001b[38;5;241m.\u001b[39mmean())\n",
      "File \u001b[0;32m~/ml2_projet/venv/lib/python3.11/site-packages/torch/nn/modules/module.py:1736\u001b[0m, in \u001b[0;36mModule._wrapped_call_impl\u001b[0;34m(self, *args, **kwargs)\u001b[0m\n\u001b[1;32m   1734\u001b[0m     \u001b[38;5;28;01mreturn\u001b[39;00m \u001b[38;5;28mself\u001b[39m\u001b[38;5;241m.\u001b[39m_compiled_call_impl(\u001b[38;5;241m*\u001b[39margs, \u001b[38;5;241m*\u001b[39m\u001b[38;5;241m*\u001b[39mkwargs)  \u001b[38;5;66;03m# type: ignore[misc]\u001b[39;00m\n\u001b[1;32m   1735\u001b[0m \u001b[38;5;28;01melse\u001b[39;00m:\n\u001b[0;32m-> 1736\u001b[0m     \u001b[38;5;28;01mreturn\u001b[39;00m \u001b[38;5;28;43mself\u001b[39;49m\u001b[38;5;241;43m.\u001b[39;49m\u001b[43m_call_impl\u001b[49m\u001b[43m(\u001b[49m\u001b[38;5;241;43m*\u001b[39;49m\u001b[43margs\u001b[49m\u001b[43m,\u001b[49m\u001b[43m \u001b[49m\u001b[38;5;241;43m*\u001b[39;49m\u001b[38;5;241;43m*\u001b[39;49m\u001b[43mkwargs\u001b[49m\u001b[43m)\u001b[49m\n",
      "File \u001b[0;32m~/ml2_projet/venv/lib/python3.11/site-packages/torch/nn/modules/module.py:1747\u001b[0m, in \u001b[0;36mModule._call_impl\u001b[0;34m(self, *args, **kwargs)\u001b[0m\n\u001b[1;32m   1742\u001b[0m \u001b[38;5;66;03m# If we don't have any hooks, we want to skip the rest of the logic in\u001b[39;00m\n\u001b[1;32m   1743\u001b[0m \u001b[38;5;66;03m# this function, and just call forward.\u001b[39;00m\n\u001b[1;32m   1744\u001b[0m \u001b[38;5;28;01mif\u001b[39;00m \u001b[38;5;129;01mnot\u001b[39;00m (\u001b[38;5;28mself\u001b[39m\u001b[38;5;241m.\u001b[39m_backward_hooks \u001b[38;5;129;01mor\u001b[39;00m \u001b[38;5;28mself\u001b[39m\u001b[38;5;241m.\u001b[39m_backward_pre_hooks \u001b[38;5;129;01mor\u001b[39;00m \u001b[38;5;28mself\u001b[39m\u001b[38;5;241m.\u001b[39m_forward_hooks \u001b[38;5;129;01mor\u001b[39;00m \u001b[38;5;28mself\u001b[39m\u001b[38;5;241m.\u001b[39m_forward_pre_hooks\n\u001b[1;32m   1745\u001b[0m         \u001b[38;5;129;01mor\u001b[39;00m _global_backward_pre_hooks \u001b[38;5;129;01mor\u001b[39;00m _global_backward_hooks\n\u001b[1;32m   1746\u001b[0m         \u001b[38;5;129;01mor\u001b[39;00m _global_forward_hooks \u001b[38;5;129;01mor\u001b[39;00m _global_forward_pre_hooks):\n\u001b[0;32m-> 1747\u001b[0m     \u001b[38;5;28;01mreturn\u001b[39;00m \u001b[43mforward_call\u001b[49m\u001b[43m(\u001b[49m\u001b[38;5;241;43m*\u001b[39;49m\u001b[43margs\u001b[49m\u001b[43m,\u001b[49m\u001b[43m \u001b[49m\u001b[38;5;241;43m*\u001b[39;49m\u001b[38;5;241;43m*\u001b[39;49m\u001b[43mkwargs\u001b[49m\u001b[43m)\u001b[49m\n\u001b[1;32m   1749\u001b[0m result \u001b[38;5;241m=\u001b[39m \u001b[38;5;28;01mNone\u001b[39;00m\n\u001b[1;32m   1750\u001b[0m called_always_called_hooks \u001b[38;5;241m=\u001b[39m \u001b[38;5;28mset\u001b[39m()\n",
      "File \u001b[0;32m~/ml2_projet/venv/lib/python3.11/site-packages/pytorch_tcn/tcn.py:611\u001b[0m, in \u001b[0;36mTCN.forward\u001b[0;34m(self, x, embeddings, inference, in_buffers)\u001b[0m\n\u001b[1;32m    608\u001b[0m \u001b[38;5;28;01melse\u001b[39;00m:\n\u001b[1;32m    609\u001b[0m     layer_in_buffers \u001b[38;5;241m=\u001b[39m \u001b[38;5;28;01mNone\u001b[39;00m\n\u001b[0;32m--> 611\u001b[0m x, skip_out \u001b[38;5;241m=\u001b[39m \u001b[43mlayer\u001b[49m\u001b[43m(\u001b[49m\n\u001b[1;32m    612\u001b[0m \u001b[43m    \u001b[49m\u001b[43mx\u001b[49m\u001b[43m,\u001b[49m\n\u001b[1;32m    613\u001b[0m \u001b[43m    \u001b[49m\u001b[43membeddings\u001b[49m\u001b[38;5;241;43m=\u001b[39;49m\u001b[43membeddings\u001b[49m\u001b[43m,\u001b[49m\n\u001b[1;32m    614\u001b[0m \u001b[43m    \u001b[49m\u001b[43minference\u001b[49m\u001b[38;5;241;43m=\u001b[39;49m\u001b[43minference\u001b[49m\u001b[43m,\u001b[49m\n\u001b[1;32m    615\u001b[0m \u001b[43m    \u001b[49m\u001b[43min_buffers\u001b[49m\u001b[38;5;241;43m=\u001b[39;49m\u001b[43mlayer_in_buffers\u001b[49m\u001b[43m,\u001b[49m\n\u001b[1;32m    616\u001b[0m \u001b[43m    \u001b[49m\u001b[43m)\u001b[49m\n\u001b[1;32m    617\u001b[0m \u001b[38;5;28;01mif\u001b[39;00m \u001b[38;5;28mself\u001b[39m\u001b[38;5;241m.\u001b[39mdownsample_skip_connection[ index ] \u001b[38;5;129;01mis\u001b[39;00m \u001b[38;5;129;01mnot\u001b[39;00m \u001b[38;5;28;01mNone\u001b[39;00m:\n\u001b[1;32m    618\u001b[0m     skip_out \u001b[38;5;241m=\u001b[39m \u001b[38;5;28mself\u001b[39m\u001b[38;5;241m.\u001b[39mdownsample_skip_connection[ index ]( skip_out )\n",
      "File \u001b[0;32m~/ml2_projet/venv/lib/python3.11/site-packages/torch/nn/modules/module.py:1736\u001b[0m, in \u001b[0;36mModule._wrapped_call_impl\u001b[0;34m(self, *args, **kwargs)\u001b[0m\n\u001b[1;32m   1734\u001b[0m     \u001b[38;5;28;01mreturn\u001b[39;00m \u001b[38;5;28mself\u001b[39m\u001b[38;5;241m.\u001b[39m_compiled_call_impl(\u001b[38;5;241m*\u001b[39margs, \u001b[38;5;241m*\u001b[39m\u001b[38;5;241m*\u001b[39mkwargs)  \u001b[38;5;66;03m# type: ignore[misc]\u001b[39;00m\n\u001b[1;32m   1735\u001b[0m \u001b[38;5;28;01melse\u001b[39;00m:\n\u001b[0;32m-> 1736\u001b[0m     \u001b[38;5;28;01mreturn\u001b[39;00m \u001b[38;5;28;43mself\u001b[39;49m\u001b[38;5;241;43m.\u001b[39;49m\u001b[43m_call_impl\u001b[49m\u001b[43m(\u001b[49m\u001b[38;5;241;43m*\u001b[39;49m\u001b[43margs\u001b[49m\u001b[43m,\u001b[49m\u001b[43m \u001b[49m\u001b[38;5;241;43m*\u001b[39;49m\u001b[38;5;241;43m*\u001b[39;49m\u001b[43mkwargs\u001b[49m\u001b[43m)\u001b[49m\n",
      "File \u001b[0;32m~/ml2_projet/venv/lib/python3.11/site-packages/torch/nn/modules/module.py:1747\u001b[0m, in \u001b[0;36mModule._call_impl\u001b[0;34m(self, *args, **kwargs)\u001b[0m\n\u001b[1;32m   1742\u001b[0m \u001b[38;5;66;03m# If we don't have any hooks, we want to skip the rest of the logic in\u001b[39;00m\n\u001b[1;32m   1743\u001b[0m \u001b[38;5;66;03m# this function, and just call forward.\u001b[39;00m\n\u001b[1;32m   1744\u001b[0m \u001b[38;5;28;01mif\u001b[39;00m \u001b[38;5;129;01mnot\u001b[39;00m (\u001b[38;5;28mself\u001b[39m\u001b[38;5;241m.\u001b[39m_backward_hooks \u001b[38;5;129;01mor\u001b[39;00m \u001b[38;5;28mself\u001b[39m\u001b[38;5;241m.\u001b[39m_backward_pre_hooks \u001b[38;5;129;01mor\u001b[39;00m \u001b[38;5;28mself\u001b[39m\u001b[38;5;241m.\u001b[39m_forward_hooks \u001b[38;5;129;01mor\u001b[39;00m \u001b[38;5;28mself\u001b[39m\u001b[38;5;241m.\u001b[39m_forward_pre_hooks\n\u001b[1;32m   1745\u001b[0m         \u001b[38;5;129;01mor\u001b[39;00m _global_backward_pre_hooks \u001b[38;5;129;01mor\u001b[39;00m _global_backward_hooks\n\u001b[1;32m   1746\u001b[0m         \u001b[38;5;129;01mor\u001b[39;00m _global_forward_hooks \u001b[38;5;129;01mor\u001b[39;00m _global_forward_pre_hooks):\n\u001b[0;32m-> 1747\u001b[0m     \u001b[38;5;28;01mreturn\u001b[39;00m \u001b[43mforward_call\u001b[49m\u001b[43m(\u001b[49m\u001b[38;5;241;43m*\u001b[39;49m\u001b[43margs\u001b[49m\u001b[43m,\u001b[49m\u001b[43m \u001b[49m\u001b[38;5;241;43m*\u001b[39;49m\u001b[38;5;241;43m*\u001b[39;49m\u001b[43mkwargs\u001b[49m\u001b[43m)\u001b[49m\n\u001b[1;32m   1749\u001b[0m result \u001b[38;5;241m=\u001b[39m \u001b[38;5;28;01mNone\u001b[39;00m\n\u001b[1;32m   1750\u001b[0m called_always_called_hooks \u001b[38;5;241m=\u001b[39m \u001b[38;5;28mset\u001b[39m()\n",
      "File \u001b[0;32m~/ml2_projet/venv/lib/python3.11/site-packages/pytorch_tcn/tcn.py:395\u001b[0m, in \u001b[0;36mTemporalBlock.forward\u001b[0;34m(self, x, embeddings, inference, in_buffers)\u001b[0m\n\u001b[1;32m    392\u001b[0m out \u001b[38;5;241m=\u001b[39m \u001b[38;5;28mself\u001b[39m\u001b[38;5;241m.\u001b[39mdropout2(out)\n\u001b[1;32m    394\u001b[0m res \u001b[38;5;241m=\u001b[39m x \u001b[38;5;28;01mif\u001b[39;00m \u001b[38;5;28mself\u001b[39m\u001b[38;5;241m.\u001b[39mdownsample \u001b[38;5;129;01mis\u001b[39;00m \u001b[38;5;28;01mNone\u001b[39;00m \u001b[38;5;28;01melse\u001b[39;00m \u001b[38;5;28mself\u001b[39m\u001b[38;5;241m.\u001b[39mdownsample(x)\n\u001b[0;32m--> 395\u001b[0m \u001b[38;5;28;01mreturn\u001b[39;00m \u001b[38;5;28;43mself\u001b[39;49m\u001b[38;5;241;43m.\u001b[39;49m\u001b[43mactivation_final\u001b[49m\u001b[43m(\u001b[49m\u001b[43mout\u001b[49m\u001b[43m \u001b[49m\u001b[38;5;241;43m+\u001b[39;49m\u001b[43m \u001b[49m\u001b[43mres\u001b[49m\u001b[43m)\u001b[49m, out\n",
      "File \u001b[0;32m~/ml2_projet/venv/lib/python3.11/site-packages/torch/nn/modules/module.py:1732\u001b[0m, in \u001b[0;36mModule._wrapped_call_impl\u001b[0;34m(self, *args, **kwargs)\u001b[0m\n\u001b[1;32m   1729\u001b[0m             tracing_state\u001b[38;5;241m.\u001b[39mpop_scope()\n\u001b[1;32m   1730\u001b[0m     \u001b[38;5;28;01mreturn\u001b[39;00m result\n\u001b[0;32m-> 1732\u001b[0m \u001b[38;5;28;01mdef\u001b[39;00m \u001b[38;5;21m_wrapped_call_impl\u001b[39m(\u001b[38;5;28mself\u001b[39m, \u001b[38;5;241m*\u001b[39margs, \u001b[38;5;241m*\u001b[39m\u001b[38;5;241m*\u001b[39mkwargs):\n\u001b[1;32m   1733\u001b[0m     \u001b[38;5;28;01mif\u001b[39;00m \u001b[38;5;28mself\u001b[39m\u001b[38;5;241m.\u001b[39m_compiled_call_impl \u001b[38;5;129;01mis\u001b[39;00m \u001b[38;5;129;01mnot\u001b[39;00m \u001b[38;5;28;01mNone\u001b[39;00m:\n\u001b[1;32m   1734\u001b[0m         \u001b[38;5;28;01mreturn\u001b[39;00m \u001b[38;5;28mself\u001b[39m\u001b[38;5;241m.\u001b[39m_compiled_call_impl(\u001b[38;5;241m*\u001b[39margs, \u001b[38;5;241m*\u001b[39m\u001b[38;5;241m*\u001b[39mkwargs)  \u001b[38;5;66;03m# type: ignore[misc]\u001b[39;00m\n",
      "\u001b[0;31mKeyboardInterrupt\u001b[0m: "
     ]
    }
   ],
   "source": [
    "optimizer = torch.optim.RMSprop(model.parameters(), lr=0.0001)\n",
    "model, losses2, validation_losses2 = train_model(model, optimizer)"
   ]
  },
  {
   "cell_type": "code",
   "execution_count": 122,
   "metadata": {},
   "outputs": [],
   "source": [
    "# Save the model\n",
    "torch.save(model.state_dict(), \"tcn.pth\")"
   ]
  },
  {
   "cell_type": "code",
   "execution_count": 101,
   "metadata": {},
   "outputs": [
    {
     "name": "stdout",
     "output_type": "stream",
     "text": [
      "downsample_skip_connection.0.weight torch.Size([16, 8, 1])\n",
      "downsample_skip_connection.0.bias torch.Size([16])\n",
      "network.0.conv1.bias torch.Size([8])\n",
      "network.0.conv1.parametrizations.weight.original0 torch.Size([8, 1, 1])\n",
      "network.0.conv1.parametrizations.weight.original1 torch.Size([8, 2, 3])\n",
      "network.0.conv2.bias torch.Size([8])\n",
      "network.0.conv2.parametrizations.weight.original0 torch.Size([8, 1, 1])\n",
      "network.0.conv2.parametrizations.weight.original1 torch.Size([8, 8, 3])\n",
      "network.0.downsample.weight torch.Size([8, 2, 1])\n",
      "network.0.downsample.bias torch.Size([8])\n",
      "network.1.conv1.bias torch.Size([16])\n",
      "network.1.conv1.parametrizations.weight.original0 torch.Size([16, 1, 1])\n",
      "network.1.conv1.parametrizations.weight.original1 torch.Size([16, 8, 3])\n",
      "network.1.conv2.bias torch.Size([16])\n",
      "network.1.conv2.parametrizations.weight.original0 torch.Size([16, 1, 1])\n",
      "network.1.conv2.parametrizations.weight.original1 torch.Size([16, 16, 3])\n",
      "network.1.downsample.weight torch.Size([16, 8, 1])\n",
      "network.1.downsample.bias torch.Size([16])\n",
      "projection_out.weight torch.Size([1, 16, 1])\n",
      "projection_out.bias torch.Size([1])\n"
     ]
    }
   ],
   "source": [
    "# List all parameters in the model\n",
    "for name, param in model.named_parameters():\n",
    "    print(name, param.shape)"
   ]
  },
  {
   "cell_type": "code",
   "execution_count": 119,
   "metadata": {},
   "outputs": [
    {
     "data": {
      "text/plain": [
       "<matplotlib.lines.Line2D at 0x32172fd50>"
      ]
     },
     "execution_count": 119,
     "metadata": {},
     "output_type": "execute_result"
    },
    {
     "data": {
      "image/png": "[encoded data removed]",
      "text/plain": [
       "<Figure size 640x480 with 1 Axes>"
      ]
     },
     "metadata": {},
     "output_type": "display_data"
    }
   ],
   "source": [
    "# Plot loss\n",
    "import matplotlib.pyplot as plt\n",
    "plt.plot(validation_losses, label=\"Validation Loss\")\n",
    "plt.plot(losses, label=\"Training Loss\")\n",
    "plt.title(\"TCN RMSE Loss\")\n",
    "plt.xlabel(\"Epoch\")\n",
    "plt.ylabel(\"Loss (RMSE)\")\n",
    "plt.legend()\n",
    "# Highlight minimum validation loss\n",
    "min_loss = min(validation_losses)\n",
    "min_loss_index = validation_losses.index(min_loss)\n",
    "plt.axvline(min_loss_index, color='r', linestyle='--')"
   ]
  },
  {
   "cell_type": "code",
   "execution_count": null,
   "metadata": {},
   "outputs": [
    {
     "name": "stdout",
     "output_type": "stream",
     "text": [
      "[[ -33577.0003922  -148832.00334681  -77088.99781934  -69581.00221587\n",
      "    16805.00044011  -14388.00034982   13328.00017451  104599.00410311\n",
      "   149368.99953039   65901.0018059 ]]\n",
      "[[-11574.87303177 -13815.87463112 -13244.81078622 -14034.32970756\n",
      "     265.22534464  30095.86857842   5497.89012677  44836.52900318\n",
      "  110174.43304725 112487.12627974]]\n",
      "date\n",
      "2023-01-01    727711.0\n",
      "2023-02-01    705562.0\n",
      "2023-03-01    671985.0\n",
      "2023-04-01    523153.0\n",
      "2023-05-01    446064.0\n",
      "2023-06-01    376483.0\n",
      "2023-07-01    393288.0\n",
      "2023-08-01    378900.0\n",
      "2023-09-01    392228.0\n",
      "2023-10-01    496827.0\n",
      "2023-11-01    646196.0\n",
      "2023-12-01    712097.0\n",
      "Name: total_kwh, dtype: float64\n"
     ]
    }
   ],
   "source": [
    "# Test \n",
    "\n",
    "\n",
    "errors = []\n",
    "with torch.no_grad():\n",
    "    for sector_mrc in sector_mrcs:\n",
    "        batch, kwh_scalers, temp_scalers, consumptions = get_n_sequences([sector_mrc], train=False, test=True)\n",
    "        batch = batch.permute(0, 2, 1)\n",
    "        X = batch[:, :-1, :]\n",
    "        y = batch[:, -1, :]\n",
    "        output = model(X)\n",
    "        y = kwh_scalers[0].inverse_transform(y)\n",
    "        output = kwh_scalers[0].inverse_transform(output.squeeze(1))\n",
    "        print(y)\n",
    "        print(output)\n",
    "        print(consumptions)\n",
    "        \n",
    "        break\n"
   ]
  },
  {
   "cell_type": "code",
   "execution_count": 29,
   "metadata": {},
   "outputs": [],
   "source": [
    "y = kwh_scalers[0].inverse_transform(y)\n",
    "output = kwh_scalers[0].inverse_transform(output.squeeze(1))"
   ]
  },
  {
   "cell_type": "code",
   "execution_count": 30,
   "metadata": {},
   "outputs": [
    {
     "data": {
      "text/plain": [
       "array([[ -156643.99790257, -1229703.03203183,  -641954.00409198,\n",
       "         -101265.00162636,   160155.99257584,   -80308.0002929 ,\n",
       "          -19238.00052861,   162567.00041428,  1179656.94804082,\n",
       "          345951.98961087]])"
      ]
     },
     "execution_count": 30,
     "metadata": {},
     "output_type": "execute_result"
    }
   ],
   "source": [
    "y"
   ]
  },
  {
   "cell_type": "code",
   "execution_count": 121,
   "metadata": {},
   "outputs": [
    {
     "data": {
      "image/png": "[encoded data removed]",
      "text/plain": [
       "<Figure size 640x480 with 1 Axes>"
      ]
     },
     "metadata": {},
     "output_type": "display_data"
    }
   ],
   "source": [
    "# Plot forecast vs actual\n",
    "import matplotlib.pyplot as plt\n",
    "plt.plot(y.squeeze())\n",
    "plt.plot(output.squeeze())\n",
    "plt.legend([\"Actual\", \"Forecast\"])\n",
    "plt.show()"
   ]
  },
  {
   "cell_type": "code",
   "execution_count": 45,
   "metadata": {},
   "outputs": [],
   "source": [
    "mapes = validate(model)"
   ]
  },
  {
   "cell_type": "code",
   "execution_count": 90,
   "metadata": {},
   "outputs": [
    {
     "data": {
      "text/plain": [
       "np.float64(0.3015086724911373)"
      ]
     },
     "execution_count": 90,
     "metadata": {},
     "output_type": "execute_result"
    }
   ],
   "source": [
    "import numpy as np\n",
    "np.mean(mapes)"
   ]
  },
  {
   "cell_type": "code",
   "execution_count": 84,
   "metadata": {},
   "outputs": [],
   "source": [
    "df.to_csv(\"dataset_standardized.csv\")"
   ]
  }
 ],
 "metadata": {
  "kernelspec": {
   "display_name": "venv",
   "language": "python",
   "name": "python3"
  },
  "language_info": {
   "codemirror_mode": {
    "name": "ipython",
    "version": 3
   },
   "file_extension": ".py",
   "mimetype": "text/x-python",
   "name": "python",
   "nbconvert_exporter": "python",
   "pygments_lexer": "ipython3",
   "version": "3.11.4"
  }
 },
 "nbformat": 4,
 "nbformat_minor": 2
}
